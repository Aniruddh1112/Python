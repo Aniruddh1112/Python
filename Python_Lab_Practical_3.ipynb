{
  "nbformat": 4,
  "nbformat_minor": 0,
  "metadata": {
    "colab": {
      "name": "Python Lab Practical 3.ipynb",
      "provenance": [],
      "collapsed_sections": []
    },
    "kernelspec": {
      "name": "python3",
      "display_name": "Python 3"
    }
  },
  "cells": [
    {
      "cell_type": "markdown",
      "metadata": {
        "id": "I4rgwJUDXxMK"
      },
      "source": [
        "Roll No : I081"
      ]
    },
    {
      "cell_type": "markdown",
      "metadata": {
        "id": "INstjsCDY3Qb"
      },
      "source": [
        "Name : Aniruddh Kulkarni "
      ]
    },
    {
      "cell_type": "markdown",
      "metadata": {
        "id": "_2r5_R3BY73F"
      },
      "source": [
        "Program : B.Tech CS (AI)"
      ]
    },
    {
      "cell_type": "markdown",
      "metadata": {
        "id": "uZU1G4XqZFll"
      },
      "source": [
        "Semester : IInd Semester"
      ]
    },
    {
      "cell_type": "markdown",
      "metadata": {
        "id": "3JeH8uT4ZLNl"
      },
      "source": [
        "Batch I3"
      ]
    },
    {
      "cell_type": "markdown",
      "metadata": {
        "id": "EJAECtvLXmVc"
      },
      "source": [
        "A.1 Aim:  To study if-else, operators and basic loops in python."
      ]
    },
    {
      "cell_type": "markdown",
      "metadata": {
        "id": "k7_SNtXaXwGk"
      },
      "source": [
        "Task 1:  \n",
        "A shop will give a discount of 10% if the cost of purchased quantity is more than 1000.\n",
        "One unit will cost 100. Write a program to take quantity as input from the user and print the total cost for the user.\n"
      ]
    },
    {
      "cell_type": "code",
      "metadata": {
        "colab": {
          "base_uri": "https://localhost:8080/"
        },
        "id": "dmyb5OfeXfYF",
        "outputId": "6251cf2f-2b70-47d3-c840-4a0699eda76d"
      },
      "source": [
        "print(\"Enter Quantity: \")\n",
        "qty = float(input())\n",
        "\n",
        "print(\"Enter Rate: \")\n",
        "rate = float(input())\n",
        "\n",
        "if (qty>1000) :\n",
        "\tdis = 10\n",
        "expense = (qty*rate) - (qty*rate*dis / 100)\n",
        "print(\"\\nTotal Expenses = Rs. \", expense)\n"
      ],
      "execution_count": null,
      "outputs": [
        {
          "output_type": "stream",
          "text": [
            "Enter Quantity: \n",
            "10\n",
            "Enter Rate: \n",
            "110\n",
            "\n",
            "Total Expenses = Rs.  990.0\n"
          ],
          "name": "stdout"
        }
      ]
    },
    {
      "cell_type": "markdown",
      "metadata": {
        "id": "CduZ1_qSbccU"
      },
      "source": [
        "Task 2:  \n",
        "A school has following rules for grading system:\n",
        "●\tBelow 25 - F\n",
        "●\t25 to 45 - E\n",
        "●\t45 to 50 - D\n",
        "●\t50 to 60 - C\n",
        "●\t60 to 80 - B\n",
        "●\tAbove 80 - A\n",
        "Ask the user to enter marks and print the corresponding grade.\n"
      ]
    },
    {
      "cell_type": "code",
      "metadata": {
        "id": "5AWm6Rf7bhdX",
        "colab": {
          "base_uri": "https://localhost:8080/"
        },
        "outputId": "2f239ffd-2b18-4f46-c17a-a132ccbd1ee5"
      },
      "source": [
        "\n",
        "\n",
        "x = int(input(\"Enter marks : \"))\n",
        "if (x<25):\n",
        "  print(\"F\")\n",
        "elif x>=25 and x<45:\n",
        "  print(\"E\")\n",
        "elif x>=45 and x<50:\n",
        "  print(\"D\")\n",
        "elif x>=50 and x<60:\n",
        "  print(\"C\")\n",
        "elif x>=60 and x<80:\n",
        "  print(\"B\")\n",
        "else:\n",
        "  print(\"A\")\n"
      ],
      "execution_count": null,
      "outputs": [
        {
          "output_type": "stream",
          "text": [
            "Enter marks : 85\n",
            "A\n"
          ],
          "name": "stdout"
        }
      ]
    },
    {
      "cell_type": "markdown",
      "metadata": {
        "id": "tEiDVaatvmIf"
      },
      "source": [
        "Task 3:  \n",
        "\n",
        "Ask users to enter age, gender ( M or F ), marital status ( Y or N ) and then using the following rules print their place of service.\n",
        "●\tIf the employee is female, then she will work only in urban areas.\n",
        "●\tIf employee is a male and age is in between 20 to 40 then he may work in anywhere\n",
        "●\tIf the employee is male and age is in between 40 t0 60 then he will work in urban areas only.\n",
        "And any other input of age should print \"ERROR\".\n"
      ]
    },
    {
      "cell_type": "code",
      "metadata": {
        "colab": {
          "base_uri": "https://localhost:8080/"
        },
        "id": "3D0CSKEesbK6",
        "outputId": "bb1b3d94-c5ca-4886-c0df-62525c6f5657"
      },
      "source": [
        "age = int(input(\"Enter your age : \"))\n",
        "gender = input(\"Enter your gender M or F : \")\n",
        "mar = input(\"marital status Y or N : \")\n",
        "if gender == \"F\":\n",
        "  print(\"work in urban areas\")\n",
        "elif gender== \"M\" and age>20 and age<40:\n",
        "  print(\"Work anywhere\")\n",
        "elif gender == \"M\" and age>40 and age<60:\n",
        "  print(\"Work in urban areas only\")\n",
        "else:\n",
        "  print(\"ERROR\")\n"
      ],
      "execution_count": null,
      "outputs": [
        {
          "output_type": "stream",
          "text": [
            "Enter your age : 42\n",
            "Enter your gender M or F : M\n",
            "marital status Y or N : Y\n",
            "Work in urban areas only\n"
          ],
          "name": "stdout"
        }
      ]
    },
    {
      "cell_type": "markdown",
      "metadata": {
        "id": "5FHSORKNyhxT"
      },
      "source": [
        "Task 4: \n",
        "Write a program to print BMI (Body Mass Index) calculator.\n"
      ]
    },
    {
      "cell_type": "code",
      "metadata": {
        "colab": {
          "base_uri": "https://localhost:8080/"
        },
        "id": "hxRTkRDy3Nva",
        "outputId": "343423f5-7eba-45e3-c2c9-7d2515f29e2b"
      },
      "source": [
        "\n",
        "\n",
        "height = float(input(\"Input your height in meters : \"))\n",
        "weight = float(input(\"Input your weight in kilograms : \"))\n",
        "bmi = weight / (height * height)\n",
        "print(\"Your body mass index is : \", round(weight / (height * height)))\n",
        "if bmi>50:\n",
        "  print(\"obese\")\n",
        "elif bmi>30 and bmi<50:\n",
        "  print(\"slightly overweight\")\n",
        "elif bmi>20 and bmi<30:\n",
        "  print(\"normal\")\n",
        "else:\n",
        "  print(\"underweight\")"
      ],
      "execution_count": null,
      "outputs": [
        {
          "output_type": "stream",
          "text": [
            "Input your height in meters : 1.5\n",
            "Input your weight in kilograms : 75\n",
            "Your body mass index is :  33\n",
            "slightly overweight\n"
          ],
          "name": "stdout"
        }
      ]
    },
    {
      "cell_type": "markdown",
      "metadata": {
        "id": "BRYKsk-oKzaH"
      },
      "source": [
        "Task 5:  \n",
        "Write a program to print digits in reverse order of a number.\n",
        "\n"
      ]
    },
    {
      "cell_type": "code",
      "metadata": {
        "colab": {
          "base_uri": "https://localhost:8080/"
        },
        "id": "u21Nr2bjLEhO",
        "outputId": "3cf4cae9-e097-4787-b3c8-f27eecc971bd"
      },
      "source": [
        "n = int(input(\"Enter a number : \"))\n",
        "sum = 0\n",
        "while n>0:\n",
        "  d=n%10\n",
        "  sum = (sum*10)+d\n",
        "  n=n//10\n",
        "print(sum)"
      ],
      "execution_count": null,
      "outputs": [
        {
          "output_type": "stream",
          "text": [
            "Enter a number : 56\n",
            "65\n"
          ],
          "name": "stdout"
        }
      ]
    },
    {
      "cell_type": "markdown",
      "metadata": {
        "id": "sVNRHU0s_4xH"
      },
      "source": [
        "\n",
        "Task 6 : \n",
        "Write a program to print Odd and Even numbers from the list of integers\n",
        "\n"
      ]
    },
    {
      "cell_type": "code",
      "metadata": {
        "colab": {
          "base_uri": "https://localhost:8080/"
        },
        "id": "WKkww1LpBC91",
        "outputId": "223c90a6-b054-47a9-9397-baec3ea5bf04"
      },
      "source": [
        "eve = 0\n",
        "odd = 0\n",
        "i = 0\n",
        "list = [1,2,3,4,5,6,7,8,9,10]\n",
        "for i in list :\n",
        "  if i%2==0:\n",
        "    print(i)\n",
        "  else:\n",
        "    print(\"  \",i)\n"
      ],
      "execution_count": null,
      "outputs": [
        {
          "output_type": "stream",
          "text": [
            "   1\n",
            "2\n",
            "   3\n",
            "4\n",
            "   5\n",
            "6\n",
            "   7\n",
            "8\n",
            "   9\n",
            "10\n"
          ],
          "name": "stdout"
        }
      ]
    },
    {
      "cell_type": "markdown",
      "metadata": {
        "id": "m4uBaLv2NoMF"
      },
      "source": [
        "\n",
        "Task 7 :\n",
        "Write a program to check the user entered number is an Armstrong Number.\n"
      ]
    },
    {
      "cell_type": "code",
      "metadata": {
        "colab": {
          "base_uri": "https://localhost:8080/"
        },
        "id": "vJeYCpirNxWY",
        "outputId": "d1a66f50-34a9-43e0-97e4-e7bf289805d2"
      },
      "source": [
        "num = int(input(\"Enter a number : \"))\n",
        "sum = 0\n",
        "while n>0:\n",
        "  d=n%10\n",
        "  sum=sum*d\n",
        "  n=n/10\n",
        "if sum==n:\n",
        "  print(\"It is armstrong number\")\n",
        "else:\n",
        "  print(\"It is not an armstrong number\")"
      ],
      "execution_count": null,
      "outputs": [
        {
          "output_type": "stream",
          "text": [
            "Enter a number : 371\n",
            "It is armstrong number\n"
          ],
          "name": "stdout"
        }
      ]
    },
    {
      "cell_type": "markdown",
      "metadata": {
        "id": "GPxBG4utP0Qn"
      },
      "source": [
        "Task 8 : \n",
        "Write a program to print out the decimal equivalents of 1/2,1/3,1/4,…1/10.\n"
      ]
    },
    {
      "cell_type": "code",
      "metadata": {
        "colab": {
          "base_uri": "https://localhost:8080/"
        },
        "id": "A9N2cczAR2M0",
        "outputId": "e843a2c7-5f2c-4dcc-9a0b-9ddf8a23e5d8"
      },
      "source": [
        "i = 0\n",
        "list = [2,3,4,5,6,7,8,9,10]\n",
        "for i in list:\n",
        "  print(1/i)\n",
        "  i=i+1"
      ],
      "execution_count": null,
      "outputs": [
        {
          "output_type": "stream",
          "text": [
            "0.5\n",
            "0.3333333333333333\n",
            "0.25\n",
            "0.2\n",
            "0.16666666666666666\n",
            "0.14285714285714285\n",
            "0.125\n",
            "0.1111111111111111\n",
            "0.1\n"
          ],
          "name": "stdout"
        }
      ]
    },
    {
      "cell_type": "markdown",
      "metadata": {
        "id": "nusLyha8TM9m"
      },
      "source": [
        "Task 9:\n",
        "Write a program to count the number of even and odd numbers from a series of numbers.\n"
      ]
    },
    {
      "cell_type": "code",
      "metadata": {
        "colab": {
          "base_uri": "https://localhost:8080/"
        },
        "id": "xHD4H0mcTR8z",
        "outputId": "36c8653f-106a-4789-c0f7-f4a0dcd259f2"
      },
      "source": [
        "eve=0\n",
        "odd=0\n",
        "for i in range(1,100):\n",
        "  if i%2==0:\n",
        "    eve=eve+1\n",
        "  else:\n",
        "    odd=odd+1\n",
        "  print(eve,odd)"
      ],
      "execution_count": null,
      "outputs": [
        {
          "output_type": "stream",
          "text": [
            "0 1\n",
            "1 1\n",
            "1 2\n",
            "2 2\n",
            "2 3\n",
            "3 3\n",
            "3 4\n",
            "4 4\n",
            "4 5\n",
            "5 5\n",
            "5 6\n",
            "6 6\n",
            "6 7\n",
            "7 7\n",
            "7 8\n",
            "8 8\n",
            "8 9\n",
            "9 9\n",
            "9 10\n",
            "10 10\n",
            "10 11\n",
            "11 11\n",
            "11 12\n",
            "12 12\n",
            "12 13\n",
            "13 13\n",
            "13 14\n",
            "14 14\n",
            "14 15\n",
            "15 15\n",
            "15 16\n",
            "16 16\n",
            "16 17\n",
            "17 17\n",
            "17 18\n",
            "18 18\n",
            "18 19\n",
            "19 19\n",
            "19 20\n",
            "20 20\n",
            "20 21\n",
            "21 21\n",
            "21 22\n",
            "22 22\n",
            "22 23\n",
            "23 23\n",
            "23 24\n",
            "24 24\n",
            "24 25\n",
            "25 25\n",
            "25 26\n",
            "26 26\n",
            "26 27\n",
            "27 27\n",
            "27 28\n",
            "28 28\n",
            "28 29\n",
            "29 29\n",
            "29 30\n",
            "30 30\n",
            "30 31\n",
            "31 31\n",
            "31 32\n",
            "32 32\n",
            "32 33\n",
            "33 33\n",
            "33 34\n",
            "34 34\n",
            "34 35\n",
            "35 35\n",
            "35 36\n",
            "36 36\n",
            "36 37\n",
            "37 37\n",
            "37 38\n",
            "38 38\n",
            "38 39\n",
            "39 39\n",
            "39 40\n",
            "40 40\n",
            "40 41\n",
            "41 41\n",
            "41 42\n",
            "42 42\n",
            "42 43\n",
            "43 43\n",
            "43 44\n",
            "44 44\n",
            "44 45\n",
            "45 45\n",
            "45 46\n",
            "46 46\n",
            "46 47\n",
            "47 47\n",
            "47 48\n",
            "48 48\n",
            "48 49\n",
            "49 49\n",
            "49 50\n"
          ],
          "name": "stdout"
        }
      ]
    },
    {
      "cell_type": "markdown",
      "metadata": {
        "id": "eHuQJmEBUFLx"
      },
      "source": [
        "Task 10:\n",
        "Write a program to display the multiplication table of 19.\n"
      ]
    },
    {
      "cell_type": "code",
      "metadata": {
        "colab": {
          "base_uri": "https://localhost:8080/"
        },
        "id": "06TLoZOkUMDO",
        "outputId": "e026f902-9885-4f99-b21a-b93dd3d95c9a"
      },
      "source": [
        "for i in range(1,11):\n",
        "  print(\"19 X\",i,\"=\",19*i)"
      ],
      "execution_count": null,
      "outputs": [
        {
          "output_type": "stream",
          "text": [
            "19 X 1 = 19\n",
            "19 X 2 = 38\n",
            "19 X 3 = 57\n",
            "19 X 4 = 76\n",
            "19 X 5 = 95\n",
            "19 X 6 = 114\n",
            "19 X 7 = 133\n",
            "19 X 8 = 152\n",
            "19 X 9 = 171\n",
            "19 X 10 = 190\n"
          ],
          "name": "stdout"
        }
      ]
    },
    {
      "cell_type": "markdown",
      "metadata": {
        "id": "r0K9Tp_-U_jx"
      },
      "source": [
        "\n",
        "Task 11:\n",
        "Write a program to print the sum of the Series 1 + x/1 + x^2/2 + x^3/3 + .. + x^n/n.\n"
      ]
    },
    {
      "cell_type": "code",
      "metadata": {
        "colab": {
          "base_uri": "https://localhost:8080/"
        },
        "id": "QMzqw33oVFJw",
        "outputId": "f687f3b8-0f13-47e0-d25d-f53d76cce16b"
      },
      "source": [
        "n = int(input(\"Enter the number of terms : \"))\n",
        "x = int(input(\"Enter the value of x : \"))\n",
        "sum1=1\n",
        "for i in range(2,n+1):\n",
        "  sum1=sum1+((x**i)/i)\n",
        "  print(\"The sum ofseries is\",round(sum1,2))\n",
        "  "
      ],
      "execution_count": null,
      "outputs": [
        {
          "output_type": "stream",
          "text": [
            "Enter the number of terms : 5\n",
            "Enter the value of x : 4\n",
            "The sum ofseries is 9.0\n",
            "The sum ofseries is 30.33\n",
            "The sum ofseries is 94.33\n",
            "The sum ofseries is 299.13\n"
          ],
          "name": "stdout"
        }
      ]
    },
    {
      "cell_type": "markdown",
      "metadata": {
        "id": "GbhU9OVCXdd4"
      },
      "source": [
        "\n",
        "Task 12:\n",
        "Write a program to get the Fibonacci series between 0 to 100. \n"
      ]
    },
    {
      "cell_type": "code",
      "metadata": {
        "colab": {
          "base_uri": "https://localhost:8080/"
        },
        "id": "wBYqBGf9XiP6",
        "outputId": "60a4839e-a5a8-4c95-b94d-3206a7b247b1"
      },
      "source": [
        "x,y = 0,1\n",
        "\n",
        "while y<100:\n",
        "  print(y)\n",
        "  x,y = y,x+y"
      ],
      "execution_count": null,
      "outputs": [
        {
          "output_type": "stream",
          "text": [
            "1\n",
            "1\n",
            "2\n",
            "3\n",
            "5\n",
            "8\n",
            "13\n",
            "21\n",
            "34\n",
            "55\n",
            "89\n"
          ],
          "name": "stdout"
        }
      ]
    },
    {
      "cell_type": "markdown",
      "metadata": {
        "id": "eb_mY7e_XtrZ"
      },
      "source": [
        "Conclusions \n",
        "1. I learnt to implement for loop, if...else loop and if...elif...else loop\n",
        "2. I learnt about while loop and how to implement them. Also learnt about comparison operators like equal (==) , greater than (x>y), not greater than (x<y) operators. \n",
        "3. I have learnt to write a program to find if the given number is an armstrong number.\n",
        "4.I have learnt to write the sum of series  1 + x/1 + x^2/2 + x^3/3 + .. + x^n/n using for loop.\n",
        "5.I have learnt about fibonacci series and how to display them using while statement. \n"
      ]
    }
  ]
}