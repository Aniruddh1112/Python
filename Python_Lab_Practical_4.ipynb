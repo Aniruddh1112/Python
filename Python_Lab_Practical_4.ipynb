{
  "nbformat": 4,
  "nbformat_minor": 0,
  "metadata": {
    "colab": {
      "name": "Python Lab Practical 4.ipynb",
      "provenance": [],
      "collapsed_sections": []
    },
    "kernelspec": {
      "name": "python3",
      "display_name": "Python 3"
    }
  },
  "cells": [
    {
      "cell_type": "markdown",
      "metadata": {
        "id": "aLR5l8PjcENh"
      },
      "source": [
        "Roll No : I081"
      ]
    },
    {
      "cell_type": "markdown",
      "metadata": {
        "id": "BNe2orTucVBP"
      },
      "source": [
        "Name : Aniruddh Kulkarni"
      ]
    },
    {
      "cell_type": "markdown",
      "metadata": {
        "id": "I4nmOCCYcYCH"
      },
      "source": [
        "Program : B.Tech CS (AI)"
      ]
    },
    {
      "cell_type": "markdown",
      "metadata": {
        "id": "NJSXuM95ccGM"
      },
      "source": [
        "Semester : IInd Semester"
      ]
    },
    {
      "cell_type": "markdown",
      "metadata": {
        "id": "AFkXiQYGcgT3"
      },
      "source": [
        "Batch I3"
      ]
    },
    {
      "cell_type": "markdown",
      "metadata": {
        "id": "Ej_q93SZcuPG"
      },
      "source": [
        "A.1 Aim:  To study loops and nested loops in python."
      ]
    },
    {
      "cell_type": "markdown",
      "metadata": {
        "id": "RDKv9FEXc4wN"
      },
      "source": [
        "Task 1:  \n",
        "Write a Python program to display all the prime numbers between any two numbers taken from the user.\n"
      ]
    },
    {
      "cell_type": "code",
      "metadata": {
        "colab": {
          "base_uri": "https://localhost:8080/"
        },
        "id": "cwEwjnlpb9oC",
        "outputId": "da76a870-15d0-4a04-dcd0-379a9637b375"
      },
      "source": [
        "\n",
        "lower = int(input(\"Enter lower number : \"))\n",
        "upper = int(input(\"Enter upper number : \"))\n",
        "\n",
        "print(\"Prime numbers between\", lower, \"and\", upper, \"are:\")\n",
        "\n",
        "for num in range(lower, upper + 1):\n",
        "   # all prime numbers are greater than 1\n",
        "   if num > 1:\n",
        "       for i in range(2, num):\n",
        "           if (num % i) == 0:\n",
        "               break\n",
        "       else:\n",
        "           print(num)"
      ],
      "execution_count": null,
      "outputs": [
        {
          "output_type": "stream",
          "text": [
            "Enter lower number : 500\n",
            "Enter upper number : 1000\n",
            "Prime numbers between 500 and 1000 are:\n",
            "503\n",
            "509\n",
            "521\n",
            "523\n",
            "541\n",
            "547\n",
            "557\n",
            "563\n",
            "569\n",
            "571\n",
            "577\n",
            "587\n",
            "593\n",
            "599\n",
            "601\n",
            "607\n",
            "613\n",
            "617\n",
            "619\n",
            "631\n",
            "641\n",
            "643\n",
            "647\n",
            "653\n",
            "659\n",
            "661\n",
            "673\n",
            "677\n",
            "683\n",
            "691\n",
            "701\n",
            "709\n",
            "719\n",
            "727\n",
            "733\n",
            "739\n",
            "743\n",
            "751\n",
            "757\n",
            "761\n",
            "769\n",
            "773\n",
            "787\n",
            "797\n",
            "809\n",
            "811\n",
            "821\n",
            "823\n",
            "827\n",
            "829\n",
            "839\n",
            "853\n",
            "857\n",
            "859\n",
            "863\n",
            "877\n",
            "881\n",
            "883\n",
            "887\n",
            "907\n",
            "911\n",
            "919\n",
            "929\n",
            "937\n",
            "941\n",
            "947\n",
            "953\n",
            "967\n",
            "971\n",
            "977\n",
            "983\n",
            "991\n",
            "997\n"
          ],
          "name": "stdout"
        }
      ]
    },
    {
      "cell_type": "markdown",
      "metadata": {
        "id": "UdD9dcKMfd-m"
      },
      "source": [
        "Task 2:  \n",
        "Write a program to check whether a user-entered number is a Perfect Number.\n"
      ]
    },
    {
      "cell_type": "code",
      "metadata": {
        "colab": {
          "base_uri": "https://localhost:8080/"
        },
        "id": "oU08uta4fh21",
        "outputId": "f13f319c-750b-462b-eece-c4e8476a3750"
      },
      "source": [
        "n = int(input(\"Enter any number: \"))\n",
        "sum1 = 0\n",
        "\n",
        "\n",
        "\n",
        "\n",
        "for i in range(1, n):\n",
        "    if(n % i == 0):\n",
        "        sum1 = sum1 + i\n",
        "\n",
        "\n",
        "\n",
        "\n",
        "if (sum1 == n):\n",
        "    print(\"The number is a Perfect number!\")\n",
        "\n",
        "\n",
        "\n",
        "\n",
        "else:\n",
        "    print(\"The number is not a Perfect number!\")"
      ],
      "execution_count": null,
      "outputs": [
        {
          "output_type": "stream",
          "text": [
            "Enter any number: 22\n",
            "The number is not a Perfect number!\n"
          ],
          "name": "stdout"
        }
      ]
    },
    {
      "cell_type": "markdown",
      "metadata": {
        "id": "jzSVgN3dlvBQ"
      },
      "source": [
        "Task 3: \n",
        "Write a program that generates a random number (0-10) and ask the user to guess it. The user will have three asserts.\n",
        "If they guess correctly, print 'You win!' else ‘You Lose!’\n"
      ]
    },
    {
      "cell_type": "code",
      "metadata": {
        "colab": {
          "base_uri": "https://localhost:8080/"
        },
        "id": "RkVTOW--l0-G",
        "outputId": "71c094fe-8fe8-4b91-d4ee-06f2e5d8afa2"
      },
      "source": [
        "import random\n",
        "import math\n",
        "# Taking Inputs\n",
        "lower = int(input(\"Enter Lower bound:- \"))\n",
        "\n",
        "# Taking Inputs\n",
        "upper = int(input(\"Enter Upper bound:- \"))\n",
        "\n",
        "# generating random number between\n",
        "# the lower and upper\n",
        "x = random.randint(lower, upper)\n",
        "print(\"\\n\\tYou've only \", \n",
        "\tround(math.log(upper - lower + 1, 2)),\n",
        "\t\" chances to guess the integer!\\n\")\n",
        "\n",
        "# Initializing the number of guesses.\n",
        "count = 0\n",
        "\n",
        "# for calculation of minimum number of\n",
        "# guesses depends upon range\n",
        "while count < math.log(upper - lower + 1, 2):\n",
        "\tcount += 1\n",
        "\n",
        "\t# taking guessing number as input\n",
        "\tguess = int(input(\"Guess a number:- \"))\n",
        "\n",
        "\n",
        "\n",
        "\n",
        "\n",
        "\t# Condition testing\n",
        "\tif x == guess:\n",
        "\t\tprint(\"Congratulations you did it in \",\n",
        "\t\t\tcount, \" try\")\n",
        "\t\t# Once guessed, loop will break\n",
        "\t\tbreak\n",
        "\telif x > guess:\n",
        "\t\tprint(\"You guessed too small!\")\n",
        "\telif x < guess:\n",
        "\t\tprint(\"You Guessed too high!\")\n",
        "\n",
        "# If Guessing is more than required guesses,\n",
        "# shows this output.\n",
        "if count >= math.log(upper - lower + 1, 2):\n",
        "\tprint(\"\\nThe number is %d\" % x)\n",
        "\tprint(\"\\tBetter Luck Next time!\")\n",
        "\n"
      ],
      "execution_count": null,
      "outputs": [
        {
          "output_type": "stream",
          "text": [
            "Enter Lower bound:- 0\n",
            "Enter Upper bound:- 10\n",
            "\n",
            "\tYou've only  3  chances to guess the integer!\n",
            "\n",
            "Guess a number:- 7\n",
            "You guessed too small!\n",
            "Guess a number:- 9\n",
            "You guessed too small!\n",
            "Guess a number:- 10\n",
            "Congratulations you did it in  3  try\n"
          ],
          "name": "stdout"
        }
      ]
    },
    {
      "cell_type": "markdown",
      "metadata": {
        "id": "acI5Go8sSbgK"
      },
      "source": [
        "Task 4:  \n",
        "Accept two strings 'string1' and 'string2' as an input from the user. Generate a resultant string, such that it is a concatenated string of all upper case alphabets from both the strings in the order they appear. Print the actual and the resultant strings.\n",
        "Note: Each character should be checked if it is an upper case alphabet and then it should be concatenated to the resultant string.\n",
        "Sample Input: string1: Alan likes Java\n",
        "                        string2: Mary Likes Python\n",
        "Output: AJMLP\n"
      ]
    },
    {
      "cell_type": "code",
      "metadata": {
        "colab": {
          "base_uri": "https://localhost:8080/"
        },
        "id": "f_a1mHB-SkYq",
        "outputId": "7e19db29-c1c9-4059-c1fb-d3af6a4b1abe"
      },
      "source": [
        "\n",
        "string1 = input(\"Enter a string: \")\n",
        "string2 = input(\"Enter another string: \")\n",
        "result = \"\"\n",
        "for i in string1:\n",
        "    if (i.isupper()):\n",
        "        result = result + i\n",
        "for i in string2:\n",
        "    if (i.isupper()):\n",
        "        result = result + i\n",
        "print(\"String1: \" + string1)\n",
        "print(\"String2: \" + string2)\n",
        "print(result)\n",
        "\n",
        "\n"
      ],
      "execution_count": null,
      "outputs": [
        {
          "output_type": "stream",
          "text": [
            "Enter a string: Hari likes to eat Burger\n",
            "Enter another string: Marry likes to eat Chapati\n",
            "String1: Hari likes to eat Burger\n",
            "String2: Marry likes to eat Chapati\n",
            "HBMC\n"
          ],
          "name": "stdout"
        }
      ]
    },
    {
      "cell_type": "markdown",
      "metadata": {
        "id": "3J3BiMTLaJYW"
      },
      "source": [
        "Task 5 : \n",
        "Given a string containing both upper and lower case alphabets. Write a Python program to count the number of occurrences of each alphabet (case insensitive) and display the same.\n",
        "Sample Input: ABaBCbGc\n",
        "Sample Output:2A 3B 2C 1G\n"
      ]
    },
    {
      "cell_type": "code",
      "metadata": {
        "colab": {
          "base_uri": "https://localhost:8080/"
        },
        "id": "theqHG1hafyY",
        "outputId": "c9bd1621-9aab-4acf-d02d-2990b51a8ded"
      },
      "source": [
        "String=\"ABaBCbGc\"\n",
        "counts = {}\n",
        "String1=String.upper()\n",
        "for i in String1:\n",
        "    counts[i] = String1.count(i)\n",
        "\n",
        "for k in counts.keys():\n",
        "    print(str(counts[k]) + k,end=\" \")"
      ],
      "execution_count": null,
      "outputs": [
        {
          "output_type": "stream",
          "text": [
            "2A 3B 2C 1G "
          ],
          "name": "stdout"
        }
      ]
    },
    {
      "cell_type": "markdown",
      "metadata": {
        "id": "bF5FTVV_4_8l"
      },
      "source": [
        "Task 6 : \n",
        "Write a Python program to construct the following pattern\n",
        "\n",
        "\n"
      ]
    },
    {
      "cell_type": "markdown",
      "metadata": {
        "id": "s5EvEgw76-68"
      },
      "source": [
        "1 "
      ]
    },
    {
      "cell_type": "markdown",
      "metadata": {
        "id": "K2qsp_Wt7AEE"
      },
      "source": [
        "2 3 "
      ]
    },
    {
      "cell_type": "markdown",
      "metadata": {
        "id": "NgGkG6Y-7DGV"
      },
      "source": [
        "4 5 6"
      ]
    },
    {
      "cell_type": "markdown",
      "metadata": {
        "id": "HYq8aVacCWrh"
      },
      "source": [
        "7 8 9 10"
      ]
    },
    {
      "cell_type": "code",
      "metadata": {
        "colab": {
          "base_uri": "https://localhost:8080/"
        },
        "id": "u17Z4aoe5d39",
        "outputId": "7d649fd6-6864-409f-f172-1912d994fea0"
      },
      "source": [
        "n = int(input(\"Enter the number of rows : \"))\n",
        "num = 1 \n",
        "for row in range (1,n+1):\n",
        "  for col in range (1,row+1):\n",
        "    print(num,end=\" \")\n",
        "    num = num +1 \n",
        "  print()\n"
      ],
      "execution_count": null,
      "outputs": [
        {
          "output_type": "stream",
          "text": [
            "Enter the number of rows : 4\n",
            "1 \n",
            "2 3 \n",
            "4 5 6 \n",
            "7 8 9 10 \n"
          ],
          "name": "stdout"
        }
      ]
    },
    {
      "cell_type": "markdown",
      "metadata": {
        "id": "e-Ja28YaCTuW"
      },
      "source": [
        "Task 7:\n",
        "Write a Python program to construct the following pattern\n",
        "* \n",
        "* * \n",
        "* * * \n",
        "* * * * \n",
        "* * * * * \n",
        "* * * * \n",
        "* * * \n",
        "* * \n",
        "* \n"
      ]
    },
    {
      "cell_type": "code",
      "metadata": {
        "colab": {
          "base_uri": "https://localhost:8080/"
        },
        "id": "sOFiW355Dii_",
        "outputId": "e1a9efcf-a3c2-4c5e-d536-70e378936ac6"
      },
      "source": [
        "n=5;\n",
        "for i in range(n):\n",
        "    for j in range(i):\n",
        "        print ('* ', end=\"\")\n",
        "    print('')\n",
        "\n",
        "for i in range(n,0,-1):\n",
        "    for j in range(i):\n",
        "        print('* ', end=\"\")\n",
        "    print('')"
      ],
      "execution_count": null,
      "outputs": [
        {
          "output_type": "stream",
          "text": [
            "\n",
            "* \n",
            "* * \n",
            "* * * \n",
            "* * * * \n",
            "* * * * * \n",
            "* * * * \n",
            "* * * \n",
            "* * \n",
            "* \n"
          ],
          "name": "stdout"
        }
      ]
    },
    {
      "cell_type": "markdown",
      "metadata": {
        "id": "h9dUHDVUGuEo"
      },
      "source": [
        "Task 8:\n",
        "Write a Python program to construct the following pattern\n",
        "\n",
        " ***** \n",
        " *     \n",
        " *     \n",
        " ****  \n",
        " *     \n",
        " *     \n",
        " ***** \n",
        "\n"
      ]
    },
    {
      "cell_type": "code",
      "metadata": {
        "colab": {
          "base_uri": "https://localhost:8080/"
        },
        "id": "lC_i_8VcG7Wi",
        "outputId": "244aa491-cd8f-4b0a-a0ee-2d1352cbac5b"
      },
      "source": [
        "n = 5\n",
        "for i in range(2):\n",
        "  print('*'*n)\n",
        "  n = n-1\n",
        "  for i in range(1):\n",
        "    print('*')\n",
        "    print('*')\n",
        "print(\"*****\")"
      ],
      "execution_count": null,
      "outputs": [
        {
          "output_type": "stream",
          "text": [
            "*****\n",
            "*\n",
            "*\n",
            "****\n",
            "*\n",
            "*\n",
            "*****\n"
          ],
          "name": "stdout"
        }
      ]
    },
    {
      "cell_type": "markdown",
      "metadata": {
        "id": "GzZfmcDwG-Mm"
      },
      "source": [
        "\n",
        "Task 9:\n",
        "Write a Python program to construct the following pattern\n",
        "\n",
        "1 \n",
        "3 3 \n",
        "5 5 5 \n",
        "7 7 7 7 \n",
        "9 9 9 9 9\n",
        "\n"
      ]
    },
    {
      "cell_type": "code",
      "metadata": {
        "colab": {
          "base_uri": "https://localhost:8080/"
        },
        "id": "mb8_dNSZHA00",
        "outputId": "92b7dca6-f266-43c7-df59-4ea5e0c18cae"
      },
      "source": [
        "num = 1\n",
        "for i in range(1,10,2):\n",
        "    print(str(i) * num)\n",
        "    num=num+1"
      ],
      "execution_count": null,
      "outputs": [
        {
          "output_type": "stream",
          "text": [
            "1\n",
            "33\n",
            "555\n",
            "7777\n",
            "99999\n"
          ],
          "name": "stdout"
        }
      ]
    },
    {
      "cell_type": "markdown",
      "metadata": {
        "id": "BuKPVBI-HFX6"
      },
      "source": [
        "Task 10:\n",
        "Write a Python program to construct the following pattern\n",
        "\n",
        "  *  \n",
        " *** \n",
        "*****\n",
        " *** \n",
        "  *  \n"
      ]
    },
    {
      "cell_type": "code",
      "metadata": {
        "id": "_iEa_cG3HISE",
        "colab": {
          "base_uri": "https://localhost:8080/"
        },
        "outputId": "1e9bd138-00c1-4299-f6eb-db79ba0c2bde"
      },
      "source": [
        "x =1\n",
        "j =3\n",
        "for i in range(0,3):\n",
        "  print(\" \"*(j-1),\"*\"*x,end=\"\")\n",
        "  print()\n",
        "  x=x+2\n",
        "  j=j-1\n",
        "x =3\n",
        "j=1\n",
        "for i in range(0,3):\n",
        "  print(\" \"*(j),\"*\"*x,end=\"\")\n",
        "  print()\n",
        "  x = x-2\n",
        "  j = j+1\n",
        "print()"
      ],
      "execution_count": null,
      "outputs": [
        {
          "output_type": "stream",
          "text": [
            "   *\n",
            "  ***\n",
            " *****\n",
            "  ***\n",
            "   *\n",
            "    \n",
            "\n"
          ],
          "name": "stdout"
        }
      ]
    },
    {
      "cell_type": "markdown",
      "metadata": {
        "id": "0sWYsFmFHLUg"
      },
      "source": [
        "Task 11: \n",
        "Write a program to take integers from the user in a list. Removes elements of the list that are the same and retain \n",
        "Input: ([1,1,2,2])\n",
        "Expected Output : [1,2].\n",
        "\n"
      ]
    },
    {
      "cell_type": "code",
      "metadata": {
        "colab": {
          "base_uri": "https://localhost:8080/"
        },
        "id": "FK1yAl_1HOA7",
        "outputId": "fac7efa6-fc37-456b-9c51-7edef374473e"
      },
      "source": [
        "def Remove(duplicate):\n",
        "    list1 = []\n",
        "    for num in duplicate:\n",
        "        if num not in list1:\n",
        "            list1.append(num)\n",
        "    return list1\n",
        "duplicate = []\n",
        "n = int(input(\"enter range of your list : \"))\n",
        "for i in range(1,n):\n",
        "  t = int(input())\n",
        "  k=t\n",
        "  duplicate.append(t)\n",
        "print(Remove(duplicate))"
      ],
      "execution_count": null,
      "outputs": [
        {
          "output_type": "stream",
          "text": [
            "enter range of your list : 5\n",
            "1\n",
            "3\n",
            "3\n",
            "4\n",
            "[1, 3, 4]\n"
          ],
          "name": "stdout"
        }
      ]
    },
    {
      "cell_type": "markdown",
      "metadata": {
        "id": "7PD76OIXHmVW"
      },
      "source": [
        "Task 12:\n",
        "Write a program to get the next day of a given date.(Also consider leap year)\n",
        "Expected Output: Given date: 25-02-2021 then next day is 26-02-2021.\n",
        "\n"
      ]
    },
    {
      "cell_type": "code",
      "metadata": {
        "colab": {
          "base_uri": "https://localhost:8080/"
        },
        "id": "0h2NygchHqOm",
        "outputId": "8e8ea578-3193-4b40-f7e0-32cea85403b4"
      },
      "source": [
        "year = int(input(\"Input a year: \"))\n",
        "\n",
        "if (year % 400 == 0):\n",
        "    leap_year = True\n",
        "elif (year % 100 == 0):\n",
        "    leap_year = False\n",
        "\n",
        "\n",
        "\n",
        "elif (year % 4 == 0):\n",
        "    leap_year = True\n",
        "else:\n",
        "    leap_year = False\n",
        "\n",
        "month = int(input(\"Input a month [1-12]: \"))\n",
        "\n",
        "if month in (1, 3, 5, 7, 8, 10, 12):\n",
        "    month_length = 31\n",
        "elif month == 2:\n",
        "    if leap_year:\n",
        "        month_length = 29\n",
        "    else:\n",
        "        month_length = 28\n",
        "else:\n",
        "    month_length = 30\n",
        "\n",
        "\n",
        "day = int(input(\"Input a day [1-31]: \"))\n",
        "\n",
        "if day < month_length:\n",
        "    day += 1\n",
        "else:\n",
        "    day = 1\n",
        "    if month == 12:\n",
        "        month = 1\n",
        "        year += 1\n",
        "    else:\n",
        "        month += 1\n",
        "print(\"The next date is [yyyy-mm-dd] %d-%d-%d.\" % (year, month, day))"
      ],
      "execution_count": null,
      "outputs": [
        {
          "output_type": "stream",
          "text": [
            "Input a year: 2002\n",
            "Input a month [1-12]: 12\n",
            "Input a day [1-31]: 11\n",
            "The next date is [yyyy-mm-dd] 2002-12-12.\n"
          ],
          "name": "stdout"
        }
      ]
    },
    {
      "cell_type": "markdown",
      "metadata": {
        "id": "Gx16UEZnIEsQ"
      },
      "source": [
        "Conclusion\n",
        "1. I learnt how to implement nested for loop, if...elif...else loop, if else loop\n",
        "2. I learnt about range function and how to implement it \n",
        "3. I learnt to display patterns using for loop along with the range function\n",
        "4. I learnt to display the next day of a given date considering the leap year"
      ]
    }
  ]
}