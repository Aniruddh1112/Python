{
  "nbformat": 4,
  "nbformat_minor": 0,
  "metadata": {
    "colab": {
      "name": "Python Lab Practical 1.ipynb",
      "provenance": [],
      "collapsed_sections": []
    },
    "kernelspec": {
      "name": "python3",
      "display_name": "Python 3"
    }
  },
  "cells": [
    {
      "cell_type": "markdown",
      "metadata": {
        "id": "qvTwMg_Huda-"
      },
      "source": [
        "Roll No: I081"
      ]
    },
    {
      "cell_type": "markdown",
      "metadata": {
        "id": "RY_Sfwatuehm"
      },
      "source": [
        "Name: Aniruddh Kulkarni"
      ]
    },
    {
      "cell_type": "markdown",
      "metadata": {
        "id": "6xQm76hAui7d"
      },
      "source": [
        "Program: B.Tech CS (AI)"
      ]
    },
    {
      "cell_type": "markdown",
      "metadata": {
        "id": "O9ESD43Bunc6"
      },
      "source": [
        "Semester: IInd Semester"
      ]
    },
    {
      "cell_type": "markdown",
      "metadata": {
        "id": "VJh_-y1tusFG"
      },
      "source": [
        "Batch: Batch I3   "
      ]
    },
    {
      "cell_type": "markdown",
      "metadata": {
        "id": "pACi0fY2TdlQ"
      },
      "source": [
        " Aim:  To study components of a python program."
      ]
    },
    {
      "cell_type": "markdown",
      "metadata": {
        "id": "m3XqXRtMVtN5"
      },
      "source": [
        "Task 1:\n",
        "Program to print basic data type of a given variable "
      ]
    },
    {
      "cell_type": "code",
      "metadata": {
        "colab": {
          "base_uri": "https://localhost:8080/"
        },
        "id": "FdIDFIsXPO49",
        "outputId": "06e1b6ff-dcd0-43ae-9965-7c79dbac8e39"
      },
      "source": [
        "a = 5\n",
        "print(a, \"is of type\", type(a))\n",
        "\n",
        "a = 2.0\n",
        "print(a, \"is of type\", type(a))\n",
        "\n",
        "a = 1+2j\n",
        "print(a, \"is complex number?\", isinstance(1+2j,complex))"
      ],
      "execution_count": null,
      "outputs": [
        {
          "output_type": "stream",
          "text": [
            "5 is of type <class 'int'>\n",
            "2.0 is of type <class 'float'>\n",
            "(1+2j) is complex number? True\n"
          ],
          "name": "stdout"
        }
      ]
    },
    {
      "cell_type": "markdown",
      "metadata": {
        "id": "16h2srtGbCHk"
      },
      "source": [
        "Task 2 : Write a program to find the roots of a quadratic equation "
      ]
    },
    {
      "cell_type": "code",
      "metadata": {
        "colab": {
          "base_uri": "https://localhost:8080/"
        },
        "id": "iacewDnsbrGf",
        "outputId": "c754eb1c-d277-41a7-a739-708bb23f9087"
      },
      "source": [
        "import cmath \n",
        "\n",
        "a= 1\n",
        "b= 4\n",
        "c= 6\n",
        "\n",
        "d =(b**2) - (4*a*c)\n",
        "\n",
        "r1 = (-b + cmath.sqrt(d)) / (2*a)\n",
        "r2 = (-b - cmath.sqrt(d))/  (2*a)\n",
        "\n",
        "print(r1,r2)"
      ],
      "execution_count": null,
      "outputs": [
        {
          "output_type": "stream",
          "text": [
            "(-2+1.4142135623730951j) (-2-1.4142135623730951j)\n"
          ],
          "name": "stdout"
        }
      ]
    },
    {
      "cell_type": "markdown",
      "metadata": {
        "id": "clAdm6ZFcw1v"
      },
      "source": [
        "Task 3 : Write a program to convert from celsius to fahrenheit"
      ]
    },
    {
      "cell_type": "code",
      "metadata": {
        "colab": {
          "base_uri": "https://localhost:8080/"
        },
        "id": "vKsaklFndAOM",
        "outputId": "624fb524-b254-42b9-f348-d52fc2f3e9f2"
      },
      "source": [
        "celsius = 31\n",
        "Fahrenheit = (celsius *1.8) + 32 \n",
        "print (\"Temperature in Fahrenheit is: \");\n",
        "print (Fahrenheit);"
      ],
      "execution_count": null,
      "outputs": [
        {
          "output_type": "stream",
          "text": [
            "Temperature in Fahrenheit is: \n",
            "87.80000000000001\n"
          ],
          "name": "stdout"
        }
      ]
    },
    {
      "cell_type": "markdown",
      "metadata": {
        "id": "8gR9N7X_gNyS"
      },
      "source": [
        "Task 4 : \n",
        "What will the output for the following Python Code ? Justify "
      ]
    },
    {
      "cell_type": "code",
      "metadata": {
        "colab": {
          "base_uri": "https://localhost:8080/",
          "height": 35
        },
        "id": "gL_2M4u_glC8",
        "outputId": "3f011dad-91c7-415b-adbe-80cf3160776a"
      },
      "source": [
        "str=\"NMIMS BTech Artificial intelligence\"\n",
        "str[11:22]"
      ],
      "execution_count": null,
      "outputs": [
        {
          "output_type": "execute_result",
          "data": {
            "application/vnd.google.colaboratory.intrinsic+json": {
              "type": "string"
            },
            "text/plain": [
              "' Artificial'"
            ]
          },
          "metadata": {
            "tags": []
          },
          "execution_count": 4
        }
      ]
    },
    {
      "cell_type": "markdown",
      "metadata": {
        "id": "rtFjzwfiiITi"
      },
      "source": [
        "Slicing starts from first index position given in this format [] and last index is not included"
      ]
    },
    {
      "cell_type": "code",
      "metadata": {
        "colab": {
          "base_uri": "https://localhost:8080/",
          "height": 200
        },
        "id": "4rTcoPdjhv8K",
        "outputId": "c2c758e9-e995-45b7-9588-d212c107d894"
      },
      "source": [
        "a=10\n",
        "a = a+'2'\n",
        "a = a*2"
      ],
      "execution_count": null,
      "outputs": [
        {
          "output_type": "error",
          "ename": "TypeError",
          "evalue": "ignored",
          "traceback": [
            "\u001b[0;31m---------------------------------------------------------------------------\u001b[0m",
            "\u001b[0;31mTypeError\u001b[0m                                 Traceback (most recent call last)",
            "\u001b[0;32m<ipython-input-5-90f89845fa57>\u001b[0m in \u001b[0;36m<module>\u001b[0;34m()\u001b[0m\n\u001b[1;32m      1\u001b[0m \u001b[0ma\u001b[0m\u001b[0;34m=\u001b[0m\u001b[0;36m10\u001b[0m\u001b[0;34m\u001b[0m\u001b[0;34m\u001b[0m\u001b[0m\n\u001b[0;32m----> 2\u001b[0;31m \u001b[0ma\u001b[0m \u001b[0;34m=\u001b[0m \u001b[0ma\u001b[0m\u001b[0;34m+\u001b[0m\u001b[0;34m'2'\u001b[0m\u001b[0;34m\u001b[0m\u001b[0;34m\u001b[0m\u001b[0m\n\u001b[0m\u001b[1;32m      3\u001b[0m \u001b[0ma\u001b[0m \u001b[0;34m=\u001b[0m \u001b[0ma\u001b[0m\u001b[0;34m*\u001b[0m\u001b[0;36m2\u001b[0m\u001b[0;34m\u001b[0m\u001b[0;34m\u001b[0m\u001b[0m\n",
            "\u001b[0;31mTypeError\u001b[0m: unsupported operand type(s) for +: 'int' and 'str'"
          ]
        }
      ]
    },
    {
      "cell_type": "markdown",
      "metadata": {
        "id": "mnvz2GyPiKCU"
      },
      "source": [
        "Unsupported data types for int and string"
      ]
    },
    {
      "cell_type": "code",
      "metadata": {
        "colab": {
          "base_uri": "https://localhost:8080/"
        },
        "id": "YD5J6EBjiKxK",
        "outputId": "86bd6e2d-125c-4708-a37f-36f6ec98d494"
      },
      "source": [
        "x = 1234\n",
        "print (\"%0.8d\"%x)"
      ],
      "execution_count": null,
      "outputs": [
        {
          "output_type": "stream",
          "text": [
            "00001234\n"
          ],
          "name": "stdout"
        }
      ]
    },
    {
      "cell_type": "markdown",
      "metadata": {
        "id": "AOjyfQCRj6AO"
      },
      "source": [
        " hexadecimal 0 padding"
      ]
    },
    {
      "cell_type": "markdown",
      "metadata": {
        "id": "OYTdtLsPi6m7"
      },
      "source": [
        "Task 5 : Write a python program to convert the distance (in feet) to inches, yards and miles"
      ]
    },
    {
      "cell_type": "code",
      "metadata": {
        "colab": {
          "base_uri": "https://localhost:8080/"
        },
        "id": "B3tEdFOxi7GK",
        "outputId": "114e3026-5c64-4fd4-9b85-484c68844be6"
      },
      "source": [
        "\n",
        "d_ft = int(input(\"Input distance in feet: \"))\n",
        "d_inches = d_ft * 12\n",
        "d_yards = d_ft / 3.0\n",
        "d_miles = d_ft / 5280.0\n",
        "\n",
        "print(\"The distance in inches is %i inches.\" % d_inches)\n",
        "print(\"The distance in yards is %.2f yards.\" % d_yards)\n",
        "print(\"The distance in miles is %.2f miles.\" % d_miles)"
      ],
      "execution_count": null,
      "outputs": [
        {
          "output_type": "stream",
          "text": [
            "Input distance in feet: 12\n",
            "The distance in inches is 144 inches.\n",
            "The distance in yards is 4.00 yards.\n",
            "The distance in miles is 0.00 miles.\n"
          ],
          "name": "stdout"
        }
      ]
    },
    {
      "cell_type": "markdown",
      "metadata": {
        "id": "kurTqb8IlAbU"
      },
      "source": [
        "Task 6 :\n",
        "Write a python program to solve (x+y)*(x+y). Read the values of x and y from the user. Expected output : ((x+y)^2) "
      ]
    },
    {
      "cell_type": "code",
      "metadata": {
        "colab": {
          "base_uri": "https://localhost:8080/"
        },
        "id": "yDDwLYfAmLtZ",
        "outputId": "f2777de5-a089-4ebe-93dd-68aac5692cb3"
      },
      "source": [
        "x, y = 4, 3\n",
        "result = x * x + 2 * x * y + y * y\n",
        "print(\"({} + {}) ^ 2) = {}\".format(x, y, result))"
      ],
      "execution_count": null,
      "outputs": [
        {
          "output_type": "stream",
          "text": [
            "(4 + 3) ^ 2) = 49\n"
          ],
          "name": "stdout"
        }
      ]
    },
    {
      "cell_type": "markdown",
      "metadata": {
        "id": "wDUY3SY7b52L"
      },
      "source": [
        "Task 7 : \n",
        "1.\tWrite a Python program to convert seconds to day, hour, minutes and seconds.\n"
      ]
    },
    {
      "cell_type": "code",
      "metadata": {
        "colab": {
          "base_uri": "https://localhost:8080/"
        },
        "id": "bC33aYrvcYQp",
        "outputId": "146c7498-6793-4844-9779-0813b7c26df9"
      },
      "source": [
        "time = float(input(\"Input time in seconds: \"))\n",
        "day = time // (24 * 3600)\n",
        "time = time % (24 * 3600)\n",
        "hour = time // 3600\n",
        "time %= 3600\n",
        "minutes = time // 60\n",
        "time %= 60\n",
        "seconds = time\n",
        "print(\"d:h:m:s-> %d:%d:%d:%d\" % (day, hour, minutes, seconds))\n"
      ],
      "execution_count": null,
      "outputs": [
        {
          "output_type": "stream",
          "text": [
            "Input time in seconds: 60\n",
            "d:h:m:s-> 0:0:1:0\n"
          ],
          "name": "stdout"
        }
      ]
    },
    {
      "cell_type": "markdown",
      "metadata": {
        "id": "tXg3bMtUg29K"
      },
      "source": [
        "2.\tWrite a Python program to convert the number of days to years, months & days."
      ]
    },
    {
      "cell_type": "code",
      "metadata": {
        "colab": {
          "base_uri": "https://localhost:8080/"
        },
        "id": "N5IU3HAbhGOE",
        "outputId": "534fd98f-2e28-4245-daab-6563786ce668"
      },
      "source": [
        "days=int(input(\"Enter Day:\"))\n",
        "\n",
        "years =(int) (days / 365)\n",
        "weeks =(int) (days / 7)\n",
        "months =(int) (days / 30)\n",
        "\n",
        "print(\"Days to Years:\",years)\n",
        "print(\"Days to Weeks:\",weeks)\n",
        "print(\"Days to Months:\",months)"
      ],
      "execution_count": null,
      "outputs": [
        {
          "output_type": "stream",
          "text": [
            "Enter Day:10\n",
            "Days to Years: 0\n",
            "Days to Weeks: 1\n",
            "Days to Months: 0\n"
          ],
          "name": "stdout"
        }
      ]
    },
    {
      "cell_type": "markdown",
      "metadata": {
        "id": "DVmm7V_Rhzcb"
      },
      "source": [
        "Task 8 : \n",
        "\n",
        "1.\tWrite a Python Program to Calculate Area of an Ellipse.\n"
      ]
    },
    {
      "cell_type": "code",
      "metadata": {
        "colab": {
          "base_uri": "https://localhost:8080/"
        },
        "id": "Mpa6roXhh03t",
        "outputId": "e0349768-953d-4c22-e729-3912aceb5a69"
      },
      "source": [
        "major = float(input(\"Enter length of major axis: \"))\n",
        "\n",
        "minor = float(input(\"Enter length of minor axis: \"))\n",
        "\n",
        "area = 3.141592 * major * minor\n",
        "\n",
        "print(\"Area of an ellipse = \", area)"
      ],
      "execution_count": null,
      "outputs": [
        {
          "output_type": "stream",
          "text": [
            "Enter length of major axis: 10\n",
            "Enter length of minor axis: 12\n",
            "Area of an ellipse =  376.99104\n"
          ],
          "name": "stdout"
        }
      ]
    },
    {
      "cell_type": "markdown",
      "metadata": {
        "id": "jxzkAK7_iYpf"
      },
      "source": [
        "2.\tWrite a Python Program to Find the Surface Area of Cone.\n",
        "\n"
      ]
    },
    {
      "cell_type": "code",
      "metadata": {
        "colab": {
          "base_uri": "https://localhost:8080/"
        },
        "id": "uivC_aVeicnB",
        "outputId": "c6a448ef-953d-48c4-c780-310766164975"
      },
      "source": [
        "import math \n",
        "r=int(input('Enter radius of the cone'))\n",
        "l=int(input('Enter len of cone'))\n",
        "area=math.pi*r*(r+1)\n",
        "print(\"Total Surface Area of the cone :\", area)"
      ],
      "execution_count": null,
      "outputs": [
        {
          "output_type": "stream",
          "text": [
            "Enter radius of the cone 5\n",
            "Enter len of cone 6\n",
            "Total Surface Area of the cone : 94.24777960769379\n"
          ],
          "name": "stdout"
        }
      ]
    },
    {
      "cell_type": "markdown",
      "metadata": {
        "id": "8Xu3uwAbsBse"
      },
      "source": [
        "Task 9 : \n",
        "Write a Python program to display your birth date.  Eg : birth_date = (11, 12, 2014)\n",
        "Sample Output: Your Birthdate is  : 11 / 12 / 2014\n",
        "\n"
      ]
    },
    {
      "cell_type": "code",
      "metadata": {
        "colab": {
          "base_uri": "https://localhost:8080/"
        },
        "id": "1R8HHSGfsAgI",
        "outputId": "e8282a18-27d7-4ff2-d99c-079db74f7b63"
      },
      "source": [
        "\n",
        "d=(11,12,2014)\n",
        "\n",
        "print(\"Your Birth date is: %i / %i / %i\" %d) "
      ],
      "execution_count": null,
      "outputs": [
        {
          "output_type": "stream",
          "text": [
            "Your Birth date is: 11 / 12 / 2014\n"
          ],
          "name": "stdout"
        }
      ]
    },
    {
      "cell_type": "markdown",
      "metadata": {
        "id": "fzVAAWHBVAFt"
      },
      "source": [
        "Conclusion :\n",
        "1. We learnt to print a statement using print function\n",
        "2. We learnt to determine the type of function using the type function \n",
        "3. We learnt to assign values to variables\n",
        "4. We learnt about different types of variables like integers, float, strings and boolean data type\n",
        "5. We learnt to use various operators like arithmetic and assignment operators\n",
        "6. We learnt using importing libraries like cmath and math   "
      ]
    }
  ]
}