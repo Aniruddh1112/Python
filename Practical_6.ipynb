{
  "nbformat": 4,
  "nbformat_minor": 0,
  "metadata": {
    "colab": {
      "name": "Practical 6.ipynb",
      "provenance": [],
      "collapsed_sections": []
    },
    "kernelspec": {
      "name": "python3",
      "display_name": "Python 3"
    },
    "language_info": {
      "name": "python"
    }
  },
  "cells": [
    {
      "cell_type": "markdown",
      "metadata": {
        "id": "eAqZoK3W0psV"
      },
      "source": [
        "Name: Aniruddh Kulkarni "
      ]
    },
    {
      "cell_type": "markdown",
      "metadata": {
        "id": "DxMMyAjt01lC"
      },
      "source": [
        "Roll No: I081"
      ]
    },
    {
      "cell_type": "markdown",
      "metadata": {
        "id": "BgcwC99g04NQ"
      },
      "source": [
        "Program: B.Tech CS (AI)"
      ]
    },
    {
      "cell_type": "markdown",
      "metadata": {
        "id": "M5E-2VHB1Dv8"
      },
      "source": [
        "Semester: IInd Semester"
      ]
    },
    {
      "cell_type": "markdown",
      "metadata": {
        "id": "9lyBFBrd1HjF"
      },
      "source": [
        "Batch: I3"
      ]
    },
    {
      "cell_type": "markdown",
      "metadata": {
        "id": "duQ6IrRM1NNi"
      },
      "source": [
        "Date of Experiment: 01-04-21"
      ]
    },
    {
      "cell_type": "markdown",
      "metadata": {
        "id": "a8gHbfiT0kUe"
      },
      "source": [
        "A.1 Aim:  To study recursive functions and anonymous functions (lambda) in python."
      ]
    },
    {
      "cell_type": "code",
      "metadata": {
        "id": "KRCuCZeN0Q1P"
      },
      "source": [
        "Task 1:  \n",
        "WAP to convert Decimal to binary number using recursion.\n",
        "Test Case : \n",
        "Input : 10\t\tOutput: 1010\n",
        "Input : 32\t\tOutput: 100000\n"
      ],
      "execution_count": null,
      "outputs": []
    },
    {
      "cell_type": "code",
      "metadata": {
        "colab": {
          "base_uri": "https://localhost:8080/"
        },
        "id": "ylRXFy7c1ctP",
        "outputId": "db3f3e17-a3f9-479b-ee85-529f8c6fb7dd"
      },
      "source": [
        "def find( decimal_number ):\n",
        "    if decimal_number == 0:\n",
        "        return 0\n",
        "    else:\n",
        "        return (decimal_number % 2 + 10 *\n",
        "                find(int(decimal_number // 2)))\n",
        " \n",
        "decimal_number = int(input(\"Enter your decimal number \"))\n",
        "print(find(decimal_number))"
      ],
      "execution_count": null,
      "outputs": [
        {
          "output_type": "stream",
          "text": [
            "Enter your decimal number 10\n",
            "1010\n"
          ],
          "name": "stdout"
        }
      ]
    },
    {
      "cell_type": "markdown",
      "metadata": {
        "id": "wEIOPlsb2mGz"
      },
      "source": [
        "Task 2:  \n",
        "WAP to find Product of two numbers using Recursion.\n",
        "Test Case : \n",
        "Input : 10, 90\t\tOutput: 900\n"
      ]
    },
    {
      "cell_type": "code",
      "metadata": {
        "colab": {
          "base_uri": "https://localhost:8080/"
        },
        "id": "0nwUZ6eh2p9d",
        "outputId": "255a077d-4889-47ca-81b3-f13f1b523e28"
      },
      "source": [
        "\n",
        "def product( x , y ):\n",
        "    # if x \n",
        "    if x < y:\n",
        "        return product(y, x)\n",
        "    elif y != 0:\n",
        "        return (x + product(x, y - 1))\n",
        "    else:\n",
        "        return 0\n",
        "x = int(input(\"enter your number \"))\n",
        "y = int(input(\"entyer yuour number\"))\n",
        "print( product(x, y))"
      ],
      "execution_count": null,
      "outputs": [
        {
          "output_type": "stream",
          "text": [
            "enter your number 10\n",
            "entyer yuour number90\n",
            "900\n"
          ],
          "name": "stdout"
        }
      ]
    },
    {
      "cell_type": "markdown",
      "metadata": {
        "id": "xYGJt-FS3ahs"
      },
      "source": [
        "Task 3: \n",
        "Predict the output of the following program. What does the following function() do ?\n",
        "def function(i) :\n",
        "    if (i % 2 == 1) :\n",
        "        i += 1\n",
        "        return (i - 1)\n",
        "    else :\n",
        "        return function(function(i - 1))\n"
      ]
    },
    {
      "cell_type": "markdown",
      "metadata": {
        "id": "VHMQDP827MfS"
      },
      "source": [
        "***In this function if you enter an even number it would return the number example 20 then n- 1 would get returned which is 19 and if you pass an odd number example 19 is passed then the number itself is getting passed.***"
      ]
    },
    {
      "cell_type": "markdown",
      "metadata": {
        "id": "DQeFRkQF7S8R"
      },
      "source": [
        "Task 4:  \n",
        "WAP to find the LCM and GCD of two numbers using recursion.\n",
        "Input : 10,8\t\tOutput: GCD = 2  , LCM = 40\n",
        "Input : 19,25\t\tOutput: GCD = 1  , LCM = 475\n"
      ]
    },
    {
      "cell_type": "code",
      "metadata": {
        "colab": {
          "base_uri": "https://localhost:8080/"
        },
        "id": "g7IsoNWhQ3Rk",
        "outputId": "e348746f-c975-4353-b308-f4512b2a6c1d"
      },
      "source": [
        "def gcd(a,b):\n",
        "     \n",
        "    \n",
        "    if (a == 0):\n",
        "        return b\n",
        "    if (b == 0):\n",
        "        return a \n",
        "    if (a == b):\n",
        "        return a\n",
        "    if (a > b):\n",
        "        return gcd(a-b, b)\n",
        "    return gcd(a, b-a)\n",
        "a = int(input(\"Enter your number : \"))\n",
        "b = int(input(\"Enter your second  number : \"))\n",
        "if(gcd(a, b)):\n",
        "    print('GCD of', a, 'and', b, 'is', gcd(a, b))\n",
        "else:\n",
        "    print('not found')"
      ],
      "execution_count": null,
      "outputs": [
        {
          "output_type": "stream",
          "text": [
            "Enter your number : 10\n",
            "Enter your second  number : 8\n",
            "GCD of 10 and 8 is 2\n"
          ],
          "name": "stdout"
        }
      ]
    },
    {
      "cell_type": "markdown",
      "metadata": {
        "id": "JVaVkeJtRHR7"
      },
      "source": [
        "Task 5 : \n",
        "Write a recursive function to calculate the harmonic sum of n numbers.\n",
        "Input : n = 10\n",
        "Output : 2.928\n"
      ]
    },
    {
      "cell_type": "code",
      "metadata": {
        "colab": {
          "base_uri": "https://localhost:8080/"
        },
        "id": "hiaQEWZORMja",
        "outputId": "3d3f373a-5bb4-4b28-cdc5-dbe12f6e1a49"
      },
      "source": [
        "def harmonic_sum(n):\n",
        "  if n < 2:\n",
        "    return 1\n",
        "  else:\n",
        "    return 1 / n + (harmonic_sum(n - 1))\n",
        "    \n",
        "print(harmonic_sum(int(input(\"Enter your limit : \"))))"
      ],
      "execution_count": null,
      "outputs": [
        {
          "output_type": "stream",
          "text": [
            "Enter your limit : 10\n",
            "2.9289682539682538\n"
          ],
          "name": "stdout"
        }
      ]
    },
    {
      "cell_type": "markdown",
      "metadata": {
        "id": "1osWJu7uRgyq"
      },
      "source": [
        "Task 6 : \n",
        "Write a Python program to calculate the sum of the positive and negative numbers of a given list (assign 15 numbers in the list) of numbers using the lambda function.\n",
        "Input : l1 = [1, 3, 6, 8, -5, -88, -2, 77, -2, -89, -12, 90, 78, 100, -100]\n",
        "Output :\n",
        "Addition of the positive numbers:  -298\n",
        "Addition of the negative numbers:  363\n"
      ]
    },
    {
      "cell_type": "code",
      "metadata": {
        "colab": {
          "base_uri": "https://localhost:8080/"
        },
        "id": "K_waC4jwRpEy",
        "outputId": "e2cc81a9-1efd-4908-ee76-f428718d6948"
      },
      "source": [
        "nums = [1, 3, 6, 8, -5, -88, -2, 77, -2, -89, -12, 90, 78, 100, -100]\n",
        "print(\"Original list:\",nums)\n",
        "\n",
        "total_negative_nums = list(filter(lambda nums:nums<0,nums))\n",
        "total_positive_nums = list(filter(lambda nums:nums>0,nums))\n",
        "\n",
        "print(\"Sum of the positive numbers: \",sum(total_negative_nums))\n",
        "print(\"Sum of the negative numbers: \",sum(total_positive_nums))"
      ],
      "execution_count": null,
      "outputs": [
        {
          "output_type": "stream",
          "text": [
            "Original list: [1, 3, 6, 8, -5, -88, -2, 77, -2, -89, -12, 90, 78, 100, -100]\n",
            "Sum of the positive numbers:  -298\n",
            "Sum of the negative numbers:  363\n"
          ],
          "name": "stdout"
        }
      ]
    },
    {
      "cell_type": "markdown",
      "metadata": {
        "id": "Itlgqrj8Ryz3"
      },
      "source": [
        "Task 7:\n",
        "Write a Python program to Remove all elements from a given list present in another list using lambda function.\n",
        "Input :\n",
        "l1 = [1, 2, 3, 4, 5, 6, 7, 8, 9, 10, 21, 50, 60]\n",
        "remove = [3, 10, 60]\n",
        "Output : [1, 2, 4, 5, 6, 7, 8, 9, 21, 50]\n"
      ]
    },
    {
      "cell_type": "code",
      "metadata": {
        "colab": {
          "base_uri": "https://localhost:8080/"
        },
        "id": "xAhzlA2IR2AI",
        "outputId": "9c329add-b176-4a89-fc01-836b525db564"
      },
      "source": [
        "test_list1 = [1,2,3,4,5,6,7,8,9,10,21,50,60]\n",
        "removal = [3,10,60]\n",
        "print (\"The list before element removal is : \"\n",
        "                            + str(test_list1))\n",
        "\n",
        "test_list1 = list(filter(lambda x: x not in removal, test_list1))\n",
        "\n",
        "print (\"The list after element removal is : \" \n",
        "                           + str(test_list1))"
      ],
      "execution_count": null,
      "outputs": [
        {
          "output_type": "stream",
          "text": [
            "The list before element removal is : [1, 2, 3, 4, 5, 6, 7, 8, 9, 10, 21, 50, 60]\n",
            "The list after element removal is : [1, 2, 4, 5, 6, 7, 8, 9, 21, 50]\n"
          ],
          "name": "stdout"
        }
      ]
    },
    {
      "cell_type": "markdown",
      "metadata": {
        "id": "QpzvvwFxR9dH"
      },
      "source": [
        "Task 8:\n",
        "Write a Python program to count the even, odd numbers in a list using Lambda.\n",
        "Input : l1 = [1, 2, 3, 4, 5, 6, 7, 8, 9, 10, 11]\n",
        "Output :\n",
        "Even numbers:  5\n",
        "Odd numbers :  6\n"
      ]
    },
    {
      "cell_type": "code",
      "metadata": {
        "colab": {
          "base_uri": "https://localhost:8080/"
        },
        "id": "JZD4CSO0SBCZ",
        "outputId": "e5f0723e-18cb-4bbf-b21d-cc6271b0d826"
      },
      "source": [
        "array_nums = [1, 2, 3,4, 5, 6,7, 8, 9, 10,11]\n",
        "print(\"Original arrays:\")\n",
        "print(array_nums)\n",
        "\n",
        "\n",
        "odd_ctr = len(list(filter(lambda x: (x%2 != 0) , array_nums)))\n",
        "even_ctr = len(list(filter(lambda x: (x%2 == 0) , array_nums)))\n",
        "print(\"\\nNumber of even numbers in the above array: \", even_ctr)\n",
        "print(\"\\nNumber of odd numbers in the above array: \", odd_ctr)"
      ],
      "execution_count": null,
      "outputs": [
        {
          "output_type": "stream",
          "text": [
            "Original arrays:\n",
            "[1, 2, 3, 4, 5, 6, 7, 8, 9, 10, 11]\n",
            "\n",
            "Number of even numbers in the above array:  5\n",
            "\n",
            "Number of odd numbers in the above array:  6\n"
          ],
          "name": "stdout"
        }
      ]
    },
    {
      "cell_type": "markdown",
      "metadata": {
        "id": "lp-ZiZ5_SQxW"
      },
      "source": [
        "Task 9:\n",
        "Write a Python program to calculate the average value of the numbers in a given tuple of tuples using lambda.\n",
        "Example : \n",
        "Input : t = ((10, 10, 10), (20, 20, 20), (100, 100, 100))\n",
        "Output : (130, 130, 130)\n"
      ]
    },
    {
      "cell_type": "code",
      "metadata": {
        "id": "7dgNWKqcSefD"
      },
      "source": [
        "t = ((10,10,10),(20,20,20),(100,100,100))\n",
        "g = []\n",
        "x = lambda a,b,c :(a+b+c)/3\n",
        "for i in range(len(t)):\n",
        "          y = x(t[0][i],t[1][i],t[2][i])\n",
        "          g.append(y)\n",
        "print(g)"
      ],
      "execution_count": null,
      "outputs": []
    }
  ]
}