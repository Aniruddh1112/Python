{
  "nbformat": 4,
  "nbformat_minor": 0,
  "metadata": {
    "colab": {
      "name": "Python Lab Practical 2.ipynb",
      "provenance": [],
      "collapsed_sections": []
    },
    "kernelspec": {
      "name": "python3",
      "display_name": "Python 3"
    }
  },
  "cells": [
    {
      "cell_type": "markdown",
      "metadata": {
        "id": "CZ05YvUq4n2L"
      },
      "source": [
        "Roll No: I081"
      ]
    },
    {
      "cell_type": "markdown",
      "metadata": {
        "id": "7u5sYbYU4rSp"
      },
      "source": [
        "Name: Aniruddh Kulkarni"
      ]
    },
    {
      "cell_type": "markdown",
      "metadata": {
        "id": "x7muAcz_4t9U"
      },
      "source": [
        "Program: B.Tech CS (AI)"
      ]
    },
    {
      "cell_type": "markdown",
      "metadata": {
        "id": "1-m5ay-y4xGi"
      },
      "source": [
        "Semester: IInd Semester"
      ]
    },
    {
      "cell_type": "markdown",
      "metadata": {
        "id": "lDspFpWf40cC"
      },
      "source": [
        "Batch: Batch I3"
      ]
    },
    {
      "cell_type": "markdown",
      "metadata": {
        "id": "48uLKLU143D_"
      },
      "source": [
        "A.1 Aim:  To study basic data types list and tuple."
      ]
    },
    {
      "cell_type": "markdown",
      "metadata": {
        "id": "oSm9tO1uVQQm"
      },
      "source": [
        "task 1 :\n",
        "Write a python program to print list elements, \n",
        "1.\tseparated by commas.\n",
        "2.\tevery element on the new line.\n"
      ]
    },
    {
      "cell_type": "code",
      "metadata": {
        "colab": {
          "base_uri": "https://localhost:8080/"
        },
        "id": "2R6MfkfVQ3wL",
        "outputId": "8bb9153c-c09a-4fa5-dc5c-a5d57412b112"
      },
      "source": [
        "list=[30,59,76,20]\n",
        "print(*list, sep = \",\")\n"
      ],
      "execution_count": null,
      "outputs": [
        {
          "output_type": "stream",
          "text": [
            "30,59,76,20\n"
          ],
          "name": "stdout"
        }
      ]
    },
    {
      "cell_type": "code",
      "metadata": {
        "colab": {
          "base_uri": "https://localhost:8080/"
        },
        "id": "sIErNcc4bK6S",
        "outputId": "d6cf01c3-ccc7-490a-8bcf-3368054b5388"
      },
      "source": [
        "list=[30,59,76,20]\n",
        "print(*list, sep = \"\\n\")"
      ],
      "execution_count": null,
      "outputs": [
        {
          "output_type": "stream",
          "text": [
            "30\n",
            "59\n",
            "76\n",
            "20\n"
          ],
          "name": "stdout"
        }
      ]
    },
    {
      "cell_type": "markdown",
      "metadata": {
        "id": "Ys0GEf9ZVTfZ"
      },
      "source": [
        "Task 2 :\n",
        "Write a python program to print a list by converting a list to a string. "
      ]
    },
    {
      "cell_type": "code",
      "metadata": {
        "colab": {
          "base_uri": "https://localhost:8080/"
        },
        "id": "X8f0s1I_VsrJ",
        "outputId": "71203968-d5cf-4d26-bd29-1f401b02b0df"
      },
      "source": [
        "e = [\"NMIMS\" , \"Mumbai\"]\n",
        "\n",
        "print(' , '.join(e))"
      ],
      "execution_count": null,
      "outputs": [
        {
          "output_type": "stream",
          "text": [
            "NMIMS , Mumbai\n"
          ],
          "name": "stdout"
        }
      ]
    },
    {
      "cell_type": "markdown",
      "metadata": {
        "id": "8O67DogTbplO"
      },
      "source": [
        "Task 3 :\n",
        "Write a python program to convert radian to degrees and vice versa."
      ]
    },
    {
      "cell_type": "code",
      "metadata": {
        "colab": {
          "base_uri": "https://localhost:8080/"
        },
        "id": "uaQEigitbxgB",
        "outputId": "8cdc0cab-6f0d-4563-be71-5a381a3743e6"
      },
      "source": [
        "import numpy as np \n",
        "import math \n",
        "choice=int(input(\"Which task do you want to perform : covert 1) radian to degrees 2) degrees to radian :\"))\n",
        "if choice == 1 :\n",
        "   rad=float(input(\"Enter your number in radian :\"))\n",
        "   Radian2Degree=np.deg2rad(rad)\n",
        "   print(\"the converted radian to degree is :\", Radian2Degree)\n",
        "else:\n",
        "   deg=float(input(\"Enter a number in radian :\"))\n",
        "   Degree2Radian=np.deg2rad(deg)\n",
        "   print(\"the converted degree to radian is : \", Degree2Radian)"
      ],
      "execution_count": null,
      "outputs": [
        {
          "output_type": "stream",
          "text": [
            "Which task do you want to perform : covert 1) radian to degrees 2) degrees to radian :1\n",
            "Enter your number in radian :3.14\n",
            "the converted radian to degree is : 0.05480333851262195\n"
          ],
          "name": "stdout"
        }
      ]
    },
    {
      "cell_type": "markdown",
      "metadata": {
        "id": "ko4oBYAafq8e"
      },
      "source": [
        "Task 4: Write a program to input 3 sides of a triangle and find sine, cosine, tangent and hypotenuse."
      ]
    },
    {
      "cell_type": "code",
      "metadata": {
        "colab": {
          "base_uri": "https://localhost:8080/"
        },
        "id": "82j7jFzVhMYd",
        "outputId": "8d00c753-f6b2-4e6c-e9fd-d9a5933df5c4"
      },
      "source": [
        "import math \n",
        "a = math.pi/6\n",
        "b = 6\n",
        "c = 10\n",
        "print(math.degrees(a))\n",
        "#print(math.radians(x))\n",
        "\n",
        "\n",
        "math.sin(a)\n",
        "math.cos(a)\n",
        "math.tan(a)\n",
        "print(math.hypot(b,c))"
      ],
      "execution_count": null,
      "outputs": [
        {
          "output_type": "stream",
          "text": [
            "29.999999999999996\n",
            "11.661903789690601\n"
          ],
          "name": "stdout"
        }
      ]
    },
    {
      "cell_type": "markdown",
      "metadata": {
        "id": "pWakTLZSh31S"
      },
      "source": [
        "Task 5:  \n",
        "Write a Python program using mathematical functions to find\n",
        "1.\tHCF of two numbers (User input)\n",
        "2.\tFactorial of a user given number.\n",
        "3.\tAbsolute value of a user given number.\n",
        "\n"
      ]
    },
    {
      "cell_type": "code",
      "metadata": {
        "id": "jL0V5yqHh7iU",
        "colab": {
          "base_uri": "https://localhost:8080/",
          "height": 287
        },
        "outputId": "3bd840f0-2d8e-4410-889a-44117b71658a"
      },
      "source": [
        "def compute_hcf(x, y):\n",
        "\n",
        "# choose the smaller number\n",
        "    if x > y:\n",
        "        smaller = y\n",
        "    else:\n",
        "        smaller = x\n",
        "    for i in range(1, smaller+1):\n",
        "        if((x % i == 0) and (y % i == 0)):\n",
        "            hcf = i \n",
        "    return hcf\n",
        "\n",
        "num1 = int(input(\"Enter a number : \"))\n",
        "num2 = int(input(\"Enter second number : \"))\n",
        "\n",
        "print(\"The H.C.F. is\", compute_hcf(num1, num2))\n",
        "print(\"The factorial is\",math.factorial(num1))\n",
        "print(\"The absolute value is\",math.fabs(num2))\n",
        "\n",
        "\n",
        "  \n"
      ],
      "execution_count": null,
      "outputs": [
        {
          "output_type": "stream",
          "text": [
            "Enter a number : 5\n",
            "Enter second number : 3\n",
            "The H.C.F. is 1\n"
          ],
          "name": "stdout"
        },
        {
          "output_type": "error",
          "ename": "NameError",
          "evalue": "ignored",
          "traceback": [
            "\u001b[0;31m---------------------------------------------------------------------------\u001b[0m",
            "\u001b[0;31mNameError\u001b[0m                                 Traceback (most recent call last)",
            "\u001b[0;32m<ipython-input-27-65d85820fcf1>\u001b[0m in \u001b[0;36m<module>\u001b[0;34m()\u001b[0m\n\u001b[1;32m     15\u001b[0m \u001b[0;34m\u001b[0m\u001b[0m\n\u001b[1;32m     16\u001b[0m \u001b[0mprint\u001b[0m\u001b[0;34m(\u001b[0m\u001b[0;34m\"The H.C.F. is\"\u001b[0m\u001b[0;34m,\u001b[0m \u001b[0mcompute_hcf\u001b[0m\u001b[0;34m(\u001b[0m\u001b[0mnum1\u001b[0m\u001b[0;34m,\u001b[0m \u001b[0mnum2\u001b[0m\u001b[0;34m)\u001b[0m\u001b[0;34m)\u001b[0m\u001b[0;34m\u001b[0m\u001b[0;34m\u001b[0m\u001b[0m\n\u001b[0;32m---> 17\u001b[0;31m \u001b[0mprint\u001b[0m\u001b[0;34m(\u001b[0m\u001b[0;34m\"The factorial is\"\u001b[0m\u001b[0;34m,\u001b[0m\u001b[0mmath\u001b[0m\u001b[0;34m.\u001b[0m\u001b[0mfactorial\u001b[0m\u001b[0;34m(\u001b[0m\u001b[0mnum1\u001b[0m\u001b[0;34m)\u001b[0m\u001b[0;34m)\u001b[0m\u001b[0;34m\u001b[0m\u001b[0;34m\u001b[0m\u001b[0m\n\u001b[0m\u001b[1;32m     18\u001b[0m \u001b[0mprint\u001b[0m\u001b[0;34m(\u001b[0m\u001b[0;34m\"The absolute value is\"\u001b[0m\u001b[0;34m,\u001b[0m\u001b[0mmath\u001b[0m\u001b[0;34m.\u001b[0m\u001b[0mfabs\u001b[0m\u001b[0;34m(\u001b[0m\u001b[0mnum2\u001b[0m\u001b[0;34m)\u001b[0m\u001b[0;34m)\u001b[0m\u001b[0;34m\u001b[0m\u001b[0;34m\u001b[0m\u001b[0m\n\u001b[1;32m     19\u001b[0m \u001b[0;34m\u001b[0m\u001b[0m\n",
            "\u001b[0;31mNameError\u001b[0m: name 'math' is not defined"
          ]
        }
      ]
    },
    {
      "cell_type": "markdown",
      "metadata": {
        "id": "YZ05DzgOcPgW"
      },
      "source": [
        "Task 6 : \n",
        "1.\tCreate a 'class_1' list and pass the elements  'Geoffrey Hinton','Andrew Ng','Sebastian Raschka','Yoshua Bengio'.\n",
        "2.\tCreate a 'class_2' list and pass the elements 'Hilary Mason','Carla Gentry','Corinna Cortes'.\n",
        "3.\tConcatenate the 'class_1' and 'class_2' list. Store the values in a'new_class' variable.\n",
        "4.\tPrint the 'new_class' variable to see the new list.\n",
        "5.\tAdd a new element ‘Henry’ in the new list. \n",
        "6.\tRemove the 'Hilary' element.\n",
        "7.\tCreate the following list for marks of 5 subjects Andrew= [98, 93, 90, 100, 92], Carla= [60, 65, 60, 75, 69], Hilary= [87, 50, 54, 77, 52]\n",
        "8.\tFind and display percentage of all the students in a list.\n",
        "9.\tAndrew Ng turns out to be topper in class. Assign it to variable ‘topper’\n",
        "10.\tSplit the 'topper'  in 'first_name' and 'last_name'.\n",
        "11.\tDisplay the ‘full name’ concatenating the strings 'last_name' and 'first_name' strings.( add whitespace)\n",
        "12.\tConvert all the elements in the 'full_name' string to uppercase.\n"
      ]
    },
    {
      "cell_type": "code",
      "metadata": {
        "colab": {
          "base_uri": "https://localhost:8080/"
        },
        "id": "8b7kxc9-cSnh",
        "outputId": "9fdcdd89-69af-4b94-925d-c581415bdf9b"
      },
      "source": [
        "class_1 = [ 'Geoffrey Hinton','Andrew Ng','Sebastian Raschka','Yoshua Bengio']\n",
        "class_2 = ['Hilary Mason','Carla Gentry','Corinna Cortes']\n",
        "class_1.extend(class_2)\n",
        "class_1\n",
        "new_class = class_1\n",
        "print(new_class)\n",
        "new_class.append(\"Henry\")\n",
        "print(new_class)\n",
        "new_class.remove(\"Hilary Mason\")\n",
        "print(new_class)\n",
        "Andrew = [98,93,90,100,92]\n",
        "Carla = [60,65,60,75,69]\n",
        "Hilary = [87,50,54,77,52]\n",
        "a = sum(Andrew)/5\n",
        "c = sum(Carla)/5\n",
        "h = sum(Hilary)\n",
        "k = [a,c,h]\n",
        "print(k)\n",
        "topper = \"Andrew Ng\"\n",
        "first_name = topper.split()[0]\n",
        "last_name = topper.split()[1]\n",
        "full_name = last_name +\" \"+first_name \n",
        "print(full_name)\n",
        "u = full_name.upper()\n",
        "print(u) \n"
      ],
      "execution_count": null,
      "outputs": [
        {
          "output_type": "stream",
          "text": [
            "['Geoffrey Hinton', 'Andrew Ng', 'Sebastian Raschka', 'Yoshua Bengio', 'Hilary Mason', 'Carla Gentry', 'Corinna Cortes']\n",
            "['Geoffrey Hinton', 'Andrew Ng', 'Sebastian Raschka', 'Yoshua Bengio', 'Hilary Mason', 'Carla Gentry', 'Corinna Cortes', 'Henry']\n",
            "['Geoffrey Hinton', 'Andrew Ng', 'Sebastian Raschka', 'Yoshua Bengio', 'Carla Gentry', 'Corinna Cortes', 'Henry']\n",
            "[94.6, 65.8, 320]\n",
            "Ng Andrew\n",
            "NG ANDREW\n"
          ],
          "name": "stdout"
        }
      ]
    },
    {
      "cell_type": "markdown",
      "metadata": {
        "id": "8PmwlcEien7k"
      },
      "source": [
        "Task 7 :\n",
        "1.\tWrite a Python program to clone or copy a list\n",
        "2.\tWrite a Python program to check if a Python list is empty\n"
      ]
    },
    {
      "cell_type": "code",
      "metadata": {
        "colab": {
          "base_uri": "https://localhost:8080/"
        },
        "id": "U9ZCYaqNiSOb",
        "outputId": "481ed542-b34f-4a14-f63b-3f7278d52b0e"
      },
      "source": [
        "original_list = [11,12,13,14,15]\n",
        "new_list = list(original_list)\n",
        "print(original_list)\n",
        "print(new_list)"
      ],
      "execution_count": null,
      "outputs": [
        {
          "output_type": "stream",
          "text": [
            "[11, 12, 13, 14, 15]\n",
            "[11, 12, 13, 14, 15]\n"
          ],
          "name": "stdout"
        }
      ]
    },
    {
      "cell_type": "code",
      "metadata": {
        "colab": {
          "base_uri": "https://localhost:8080/"
        },
        "id": "sPkBe22SkGRA",
        "outputId": "2c27d706-a52c-4bdb-eec0-802b9916d22d"
      },
      "source": [
        "def Enquiry(new_list): \n",
        "    if len(new_list) == 0: \n",
        "        return 0\n",
        "    else: \n",
        "        return 1\n",
        "           \n",
        "new_list = [] \n",
        "if Enquiry(new_list): \n",
        "    print (\"The list is not empty\") \n",
        "else: \n",
        "    print(\"Empty List\") "
      ],
      "execution_count": null,
      "outputs": [
        {
          "output_type": "stream",
          "text": [
            "Empty List\n"
          ],
          "name": "stdout"
        }
      ]
    },
    {
      "cell_type": "markdown",
      "metadata": {
        "id": "wGtZgvqAPoNx"
      },
      "source": [
        "Task 8 : \n",
        "Tuple = (\"NMIMS\", [10, 20, 30], (5, 15, 25))\n",
        "1.\tAccess value 20 \n",
        "2.\tUnpack the following tuple into 3 variables\n"
      ]
    },
    {
      "cell_type": "code",
      "metadata": {
        "colab": {
          "base_uri": "https://localhost:8080/"
        },
        "id": "SteDa0IqPtDs",
        "outputId": "f55bf7c1-e975-448f-8281-854ce8b4e71d"
      },
      "source": [
        "Tuple = (\"NMIMS\", [10, 20, 30], (5, 15, 25))\n",
        "Tuple[1][1]\n"
      ],
      "execution_count": null,
      "outputs": [
        {
          "output_type": "execute_result",
          "data": {
            "text/plain": [
              "20"
            ]
          },
          "metadata": {
            "tags": []
          },
          "execution_count": 7
        }
      ]
    },
    {
      "cell_type": "code",
      "metadata": {
        "colab": {
          "base_uri": "https://localhost:8080/"
        },
        "id": "ffDv7oQkb1IO",
        "outputId": "9a4ff67c-9efb-42cf-a4b4-00825e33ce13"
      },
      "source": [
        "x = Tuple[0]\n",
        "print(x)"
      ],
      "execution_count": null,
      "outputs": [
        {
          "output_type": "stream",
          "text": [
            "NMIMS\n"
          ],
          "name": "stdout"
        }
      ]
    },
    {
      "cell_type": "code",
      "metadata": {
        "colab": {
          "base_uri": "https://localhost:8080/"
        },
        "id": "xE53HSCWcVgw",
        "outputId": "1f68a9cd-4958-4f09-80dc-1abd8bd11eea"
      },
      "source": [
        "y = Tuple[1]\n",
        "print(y)"
      ],
      "execution_count": null,
      "outputs": [
        {
          "output_type": "stream",
          "text": [
            "[10, 20, 30]\n"
          ],
          "name": "stdout"
        }
      ]
    },
    {
      "cell_type": "code",
      "metadata": {
        "colab": {
          "base_uri": "https://localhost:8080/"
        },
        "id": "rtoraM2IccgD",
        "outputId": "f371fac5-92fc-4f66-a11f-502407d9cce6"
      },
      "source": [
        "z = Tuple[2]\n",
        "print(z)"
      ],
      "execution_count": null,
      "outputs": [
        {
          "output_type": "stream",
          "text": [
            "(5, 15, 25)\n"
          ],
          "name": "stdout"
        }
      ]
    },
    {
      "cell_type": "markdown",
      "metadata": {
        "id": "Er-jWxw_chgf"
      },
      "source": [
        "\n",
        "Task 9:\n",
        "1.\tWrite code to swap the following two tuples :   tuple1 = (11, 22)   tuple2 = (99, 88)\n",
        "Expected Output :  tuple1 = (99, 88)    tuple2 = (11, 22)\n",
        "\n",
        "2.\ttuple1 = (11, [22, 33], 44, 55)\n",
        "Modify the first item (22) of a list inside a following tuple to 2000\n"
      ]
    },
    {
      "cell_type": "code",
      "metadata": {
        "colab": {
          "base_uri": "https://localhost:8080/"
        },
        "id": "TJZd9npydQxx",
        "outputId": "0ab50795-2afb-498e-ce7c-a69ba57f94bf"
      },
      "source": [
        "tuple1, tuple2 = (11, 22),(99, 88)\n",
        "temp = tuple1\n",
        "tuple1 = tuple2\n",
        "tuple2 = temp\n",
        "\n",
        "\n",
        "print('Tuple1 = {}'.format(tuple1))\n",
        "print('Tuple2 = {}'.format(tuple2))"
      ],
      "execution_count": null,
      "outputs": [
        {
          "output_type": "stream",
          "text": [
            "Tuple1 = (99, 88)\n",
            "Tuple2 = (11, 22)\n"
          ],
          "name": "stdout"
        }
      ]
    },
    {
      "cell_type": "code",
      "metadata": {
        "colab": {
          "base_uri": "https://localhost:8080/"
        },
        "id": "ZQbRSR6ihXds",
        "outputId": "304f077d-b8a3-4f6e-85ce-4f35c834e5cc"
      },
      "source": [
        "tuple1 = (11, [22, 33], 44, 55)\n",
        "tuple1[1][0] = 2000\n",
        "print(tuple1)"
      ],
      "execution_count": null,
      "outputs": [
        {
          "output_type": "stream",
          "text": [
            "(11, [2000, 33], 44, 55)\n"
          ],
          "name": "stdout"
        }
      ]
    },
    {
      "cell_type": "markdown",
      "metadata": {
        "id": "kCgdZs4HhzYP"
      },
      "source": [
        "Task 10:\n",
        "tuple1 = (11, 22, 33, 44, 55, 11, 66, 11)\n",
        "1.\tWrite code to copy element 44 and 55 from the following tuple into a new tuple ‘tuple2’\n",
        "2.\tCount the number of occurrences of item 11 in the tuple.\n",
        "3.\tReverse the tuple.\n"
      ]
    },
    {
      "cell_type": "code",
      "metadata": {
        "colab": {
          "base_uri": "https://localhost:8080/"
        },
        "id": "3qWeDD4Bh5PI",
        "outputId": "1f800f7e-4a7f-4368-9623-ff9fc6cfbffe"
      },
      "source": [
        "tuple1 = (11, 22, 33, 44, 55, 66)\n",
        "tuple2 = tuple1[3:-1]\n",
        "print(tuple2)\n"
      ],
      "execution_count": null,
      "outputs": [
        {
          "output_type": "stream",
          "text": [
            "(44, 55)\n"
          ],
          "name": "stdout"
        }
      ]
    },
    {
      "cell_type": "code",
      "metadata": {
        "colab": {
          "base_uri": "https://localhost:8080/"
        },
        "id": "nnP6QYrbo8Sr",
        "outputId": "00ba90d1-93f9-44a0-f61a-3798d0da1556"
      },
      "source": [
        "def countY(tuple1, y): \n",
        "    count = 0\n",
        "    for ele in tuple1: \n",
        "        if (ele == y): \n",
        "            count = count + 1\n",
        "    return count\n",
        "\n",
        "tuple1 = (11, 22, 33, 44, 55, 11, 66, 11)\n",
        "enq = 11\n",
        "print(countY(tuple1, enq))"
      ],
      "execution_count": null,
      "outputs": [
        {
          "output_type": "stream",
          "text": [
            "3\n"
          ],
          "name": "stdout"
        }
      ]
    },
    {
      "cell_type": "code",
      "metadata": {
        "colab": {
          "base_uri": "https://localhost:8080/"
        },
        "id": "8KuYPQcupr7R",
        "outputId": "25506800-af52-4884-c66d-727a1ef5869b"
      },
      "source": [
        "rev = tuple(reversed(tuple1))\n",
        "print(rev)"
      ],
      "execution_count": null,
      "outputs": [
        {
          "output_type": "stream",
          "text": [
            "(11, 66, 11, 55, 44, 33, 22, 11)\n"
          ],
          "name": "stdout"
        }
      ]
    },
    {
      "cell_type": "markdown",
      "metadata": {
        "id": "sLQLAMmT5AS0"
      },
      "source": [
        "\n",
        "\n",
        "Conclusion\n",
        "1.I learnt about basic data types like integer,float,boolean,string and tuples\n",
        "2.I learnt how to print every element from a given list on a new line \n",
        "3.I learnt how to convert a list into a string \n",
        "4.I learnt about if...else and for loop and how to implement them \n",
        "5.I learnt to split two lists\n",
        "6.I learnt to access elements from a given list \n",
        "7.I learnt to replace an element with another element from a given list \n",
        "8.I learnt to swap two tuples \n",
        "9.I learnt to take two values from a list and store them in a different variable  "
      ]
    }
  ]
}