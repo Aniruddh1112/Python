{
  "nbformat": 4,
  "nbformat_minor": 0,
  "metadata": {
    "colab": {
      "name": "Practical 7.ipynb",
      "provenance": [],
      "collapsed_sections": []
    },
    "kernelspec": {
      "name": "python3",
      "display_name": "Python 3"
    },
    "language_info": {
      "name": "python"
    }
  },
  "cells": [
    {
      "cell_type": "markdown",
      "metadata": {
        "id": "1kO_-gtrv4EC"
      },
      "source": [
        "Name: Aniruddh Kulkarni"
      ]
    },
    {
      "cell_type": "markdown",
      "metadata": {
        "id": "oAEly81UwYb-"
      },
      "source": [
        "Roll No : I081"
      ]
    },
    {
      "cell_type": "markdown",
      "metadata": {
        "id": "JcHgEj9IwcNg"
      },
      "source": [
        "Batch : I3"
      ]
    },
    {
      "cell_type": "markdown",
      "metadata": {
        "id": "331leWaPwec-"
      },
      "source": [
        "Program : B.Tech CS (AI)"
      ]
    },
    {
      "cell_type": "markdown",
      "metadata": {
        "id": "EdxARbGhxB_L"
      },
      "source": [
        "Semester : IInd Semester"
      ]
    },
    {
      "cell_type": "markdown",
      "metadata": {
        "id": "PQyNe3StxM-o"
      },
      "source": [
        "Date of Experiment : 14-04-21"
      ]
    },
    {
      "cell_type": "markdown",
      "metadata": {
        "id": "10gb0DDCxRiq"
      },
      "source": [
        "A.1 Aim:  To study Arrays and NumPy Arrays in python."
      ]
    },
    {
      "cell_type": "markdown",
      "metadata": {
        "id": "tPTXcdfQxd_I"
      },
      "source": [
        "Task 1:  \n",
        "Write a Python program to reverse an array without using an in-built function.\n"
      ]
    },
    {
      "cell_type": "code",
      "metadata": {
        "colab": {
          "base_uri": "https://localhost:8080/"
        },
        "id": "wmwPoklGwTyw",
        "outputId": "baeb0441-83a6-448f-e3b3-1428f64f6d9d"
      },
      "source": [
        "import numpy as np\n",
        "array = np.array([1,2,3,4])\n",
        "reversed = []\n",
        "for i in range(len(array),0,-1):\n",
        "  reversed.append(i)\n",
        "reversed"
      ],
      "execution_count": null,
      "outputs": [
        {
          "output_type": "execute_result",
          "data": {
            "text/plain": [
              "[4, 3, 2, 1]"
            ]
          },
          "metadata": {
            "tags": []
          },
          "execution_count": 11
        }
      ]
    },
    {
      "cell_type": "markdown",
      "metadata": {
        "id": "6c9Rb55e6WjT"
      },
      "source": [
        "Task 2:  \n",
        "Write a Python program to find the frequency of a user given number in an array.(without using an in-built function)\n"
      ]
    },
    {
      "cell_type": "code",
      "metadata": {
        "id": "LBAAXH-NY3TA",
        "colab": {
          "base_uri": "https://localhost:8080/"
        },
        "outputId": "8533aa5a-ffa3-477f-80e6-cc77e5e4f71b"
      },
      "source": [
        "arr = ar.array(\"i\",[1,2,3,2,2,5,1])\n",
        "count = 0\n",
        "x = int(input(\"Enter a number you would like to check:\"))\n",
        "for i in arr:\n",
        "  if i==x:\n",
        "    count = count +1\n",
        "print(\"The number\",x,\"is there\",count,\"number of times\")\n",
        "  "
      ],
      "execution_count": null,
      "outputs": [
        {
          "output_type": "stream",
          "text": [
            "Enter a number you would like to check:2\n",
            "The number 2 is there 3 number of times\n"
          ],
          "name": "stdout"
        }
      ]
    },
    {
      "cell_type": "markdown",
      "metadata": {
        "id": "X2J_kqDa53pw"
      },
      "source": [
        "Task 3:  \n",
        "\n",
        "Write a Python program to place all negative numbers in the array at the end of the array and  positive numbers in the beginning."
      ]
    },
    {
      "cell_type": "code",
      "metadata": {
        "id": "41xpAB7Vvx8U",
        "colab": {
          "base_uri": "https://localhost:8080/"
        },
        "outputId": "115ef0b3-8893-41ec-c1e1-969f9e39f447"
      },
      "source": [
        "arr = np.array([-1,4,-6,3,2,-5,5])\n",
        "k = np.sort(arr)\n",
        "for i in range(0, len(k)):    \n",
        "    print(end = \"\"),     \n",
        "print(\"Array in reverse order: \");    \n",
        "for i in range(len(k)-1, -1, -1):     \n",
        "    print(k[i],end = \" \")"
      ],
      "execution_count": null,
      "outputs": [
        {
          "output_type": "stream",
          "text": [
            "Array in reverse order: \n",
            "5 4 3 2 -1 -5 -6 "
          ],
          "name": "stdout"
        }
      ]
    },
    {
      "cell_type": "markdown",
      "metadata": {
        "id": "FrwbfxDA6KI8"
      },
      "source": [
        "Task 4:   \n",
        "\n",
        "Write a Python program to sort an array in wave form. \n",
        "\n",
        "Example :  \n",
        "\n",
        "Input: A[] = {2, 4, 6, 8, 10, 20} \n",
        "\n",
        "Output: A[] = {4, 2, 8, 6, 20, 10} "
      ]
    },
    {
      "cell_type": "code",
      "metadata": {
        "colab": {
          "base_uri": "https://localhost:8080/"
        },
        "id": "T6Y2sLKt6Q_6",
        "outputId": "fc0d6f83-b184-45c9-ea41-42e22a84ed48"
      },
      "source": [
        "def waveform(arr,n):\n",
        "  np.sort(arr)\n",
        "  for i in range(0,n-1,2):\n",
        "    arr[i],arr[i+1] = arr[i+1],arr[i]\n",
        "arr = np.array([2,4,6,8,10,20])\n",
        "waveform(arr,len(arr))\n",
        "print(arr)"
      ],
      "execution_count": null,
      "outputs": [
        {
          "output_type": "stream",
          "text": [
            "[ 4  2  8  6 20 10]\n"
          ],
          "name": "stdout"
        }
      ]
    },
    {
      "cell_type": "markdown",
      "metadata": {
        "id": "qwJ03G_A6ayy"
      },
      "source": [
        "Task 5 :  \n",
        "\n",
        "Write a Python program to print a given matrix in spiral form. \n",
        "\n",
        "Example :  \n",
        "\n",
        "A = [[1 2 3] \n",
        "\n",
        "     [4 5 6] \n",
        "\n",
        "     [7 8 9]] \n",
        "\n",
        "Spiral form : 1 2 3 6 9 8 7 4 5 "
      ]
    },
    {
      "cell_type": "code",
      "metadata": {
        "colab": {
          "base_uri": "https://localhost:8080/"
        },
        "id": "XleXsHsC6hdR",
        "outputId": "4f5e9d36-ed2b-464c-9820-a330a469f68c"
      },
      "source": [
        "import numpy as np\n",
        "\n",
        "\n",
        "a = np.array([[1,2,3,4],[5,6,7,8],[9,10,11,12],[13,14,15,16]])\n",
        "b = np.array([[1,2,3],[4,5,6],[7,8,9]])\n",
        "c = np.array([[1,2],[3,4]])\n",
        "\n",
        "\n",
        "def spiral(r,c,a):\n",
        "    row = 0\n",
        "    col = 0\n",
        "    #if (r%2 is not 0):\n",
        "     #       temp = a[r//2][c//2]\n",
        "    while True:\n",
        "        for i in range (col , c-1):\n",
        "            print(a[row][i] , end = ' ')\n",
        "            \n",
        "        for i in range (row , r-1):\n",
        "            print(a[i][c-1] , end = ' ')\n",
        "            \n",
        "        for i in range (c-1 , col , -1):\n",
        "            print(a[r-1][i] , end = ' ')\n",
        "            \n",
        "        for i in range(r-1, row , -1):\n",
        "            print(a[i][col] , end = ' ')\n",
        "        \n",
        "        row+=1\n",
        "        col+=1\n",
        "        r-=1\n",
        "        c-=1\n",
        "        \n",
        "        if (r<-1):\n",
        "         #   print(temp)\n",
        "            break\n",
        "    \n",
        "print(a)\n",
        "spiral(4,4,a)\n",
        "print('\\n',b)\n",
        "spiral(3,3,b)\n",
        "print('\\n',c)\n",
        "spiral(2,2,c)"
      ],
      "execution_count": null,
      "outputs": [
        {
          "output_type": "stream",
          "text": [
            "[[ 1  2  3  4]\n",
            " [ 5  6  7  8]\n",
            " [ 9 10 11 12]\n",
            " [13 14 15 16]]\n",
            "1 2 3 4 8 12 16 15 14 13 9 5 6 7 11 10 \n",
            " [[1 2 3]\n",
            " [4 5 6]\n",
            " [7 8 9]]\n",
            "1 2 3 6 9 8 7 4 \n",
            " [[1 2]\n",
            " [3 4]]\n",
            "1 2 4 3 "
          ],
          "name": "stdout"
        }
      ]
    },
    {
      "cell_type": "markdown",
      "metadata": {
        "id": "_OsXIQT76zvx"
      },
      "source": [
        "Task 6 :  \n",
        "\n",
        "6.1 \tWrite a Python program to print ‘k’ smallest element in an unsorted array. \n",
        "\n",
        "6.2 \tWrite aPython program to print ‘k’ largest element in an unsorted array."
      ]
    },
    {
      "cell_type": "code",
      "metadata": {
        "colab": {
          "base_uri": "https://localhost:8080/"
        },
        "id": "oSpgtbk-65sw",
        "outputId": "c5a7b976-3607-4599-ce07-6e7bd3fe2581"
      },
      "source": [
        "def largest(arr,n):\n",
        "  largest = arr[0]\n",
        "  for i in arr:\n",
        "    if(i>largest):\n",
        "      largest = i\n",
        "  return largest\n",
        "def smallest(arr,n):\n",
        "  smallest = arr[0]\n",
        "  for i in arr:\n",
        "    if i<smallest:\n",
        "      smallest = i\n",
        "  return smallest\n",
        "arr = np.array([2,-1,4,3,6,7])\n",
        "print(\"Largest:\",largest(arr,len(arr)))\n",
        "print(\"Smallest:\",smallest(arr,len(arr)))"
      ],
      "execution_count": null,
      "outputs": [
        {
          "output_type": "stream",
          "text": [
            "Largest: 7\n",
            "Smallest: -1\n"
          ],
          "name": "stdout"
        }
      ]
    },
    {
      "cell_type": "markdown",
      "metadata": {
        "id": "z2NZmZ437IdL"
      },
      "source": [
        "Task 7: \n",
        "\n",
        "Write a Python Program to add two 3x3 Matrices using Nested Loop. "
      ]
    },
    {
      "cell_type": "code",
      "metadata": {
        "colab": {
          "base_uri": "https://localhost:8080/"
        },
        "id": "mcelrQLO7Tf8",
        "outputId": "ea5e1864-5708-4c46-8db8-d585845db791"
      },
      "source": [
        "x = [[12,2,3],\n",
        "    [46 ,54,68],\n",
        "    [8 ,8,9]]\n",
        "y = [[3,11,3],\n",
        "    [6,5,9],\n",
        "    [43,5,76]]\n",
        "result = [[0,0,0],\n",
        "         [0,0,0],\n",
        "         [0,0,0]]\n",
        "for i in range(len(x)):\n",
        "   for j in range(len(x[0])):\n",
        "       result[i][j] = x[i][j] + y[i][j]\n",
        "for r in result:\n",
        "   print(r)"
      ],
      "execution_count": null,
      "outputs": [
        {
          "output_type": "stream",
          "text": [
            "[15, 13, 6]\n",
            "[52, 59, 77]\n",
            "[51, 13, 85]\n"
          ],
          "name": "stdout"
        }
      ]
    },
    {
      "cell_type": "markdown",
      "metadata": {
        "id": "9Yrm34XK7oNJ"
      },
      "source": [
        "Task 8: \n",
        "\n",
        "Write a Python Program to multiply two Matrices using Nested Loop. "
      ]
    },
    {
      "cell_type": "code",
      "metadata": {
        "colab": {
          "base_uri": "https://localhost:8080/"
        },
        "id": "7UAzrxbl7igC",
        "outputId": "402064ca-323e-4d73-83c4-098555f4f0ba"
      },
      "source": [
        "a1 = np.array([[1,2],[3,4]])\n",
        "a2 = np.array([[3,4],[5,6]]) \n",
        "product = np.zeros((2,2),int)\n",
        "for i in range(2):\n",
        "  for j in range(2):\n",
        "    for v in range(2):\n",
        "      product[i,j] += a1[i,v]*a2[v,j]\n",
        "print(product)"
      ],
      "execution_count": null,
      "outputs": [
        {
          "output_type": "stream",
          "text": [
            "[[13 16]\n",
            " [29 36]]\n"
          ],
          "name": "stdout"
        }
      ]
    },
    {
      "cell_type": "markdown",
      "metadata": {
        "id": "FQemPjn87xlA"
      },
      "source": [
        "Task 9: \n",
        "\n",
        "Write a Python Program to Calculate the sum of all columns in a 2D NumPy array \n",
        "\n",
        "Example :   \n",
        "\n",
        "A = [ [1 2 3] \n",
        "\n",
        " \t[1 1 1] \n",
        "\n",
        " \t[1 1 1]] \n",
        "\n",
        " \n",
        "\n",
        "Column wise Sum: 3 4 5 "
      ]
    },
    {
      "cell_type": "code",
      "metadata": {
        "colab": {
          "base_uri": "https://localhost:8080/"
        },
        "id": "vsB6go4a77sx",
        "outputId": "816400d5-9ad9-4b57-bc0b-b445b73388e8"
      },
      "source": [
        "a = np.array(([1,2,3],[1,1,1],[1,1,1]),int)\n",
        "print(a)\n",
        "sum = np.sum(a,axis = 0)                                                                        #axis = 0 means column 1 means row\n",
        "print(\"Column wise sum:\",sum)"
      ],
      "execution_count": null,
      "outputs": [
        {
          "output_type": "stream",
          "text": [
            "[[1 2 3]\n",
            " [1 1 1]\n",
            " [1 1 1]]\n",
            "Column wise sum: [3 4 5]\n"
          ],
          "name": "stdout"
        }
      ]
    },
    {
      "cell_type": "markdown",
      "metadata": {
        "id": "i8VAWBe18E95"
      },
      "source": [
        "Task 10: \n",
        "\n",
        "Write a Python Program to find Range and Coefficient of range of Array. \n",
        "\n",
        "Range = Max – Min \n",
        "\n",
        "Coefficient of Range = (Max – Min) / (Max + Min) \n",
        "\n",
        "Example :  \n",
        "\n",
        "A = [10, 20, 30, 5, 8] \n",
        "\n",
        "Range : 25 \n",
        "\n",
        "Coefficient of Range : 0.7142857142857143 "
      ]
    },
    {
      "cell_type": "code",
      "metadata": {
        "colab": {
          "base_uri": "https://localhost:8080/"
        },
        "id": "AMCNfA4x8KeY",
        "outputId": "c3671ff2-d0ae-4188-d3c4-4af5d00a3e15"
      },
      "source": [
        "a = np.array([35,23,32,25,8])\n",
        "Range = np.max(a)-np.min(a) #Can also use np.ptp(A) \n",
        "print(\"Range:\",Range)\n",
        "other_thing = np.max(a)+np.min(a)\n",
        "cor = Range/other_thing\n",
        "print(\"Coeddicient of Range:\",cor)"
      ],
      "execution_count": null,
      "outputs": [
        {
          "output_type": "stream",
          "text": [
            "Range: 27\n",
            "Coeddicient of Range: 0.627906976744186\n"
          ],
          "name": "stdout"
        }
      ]
    }
  ]
}