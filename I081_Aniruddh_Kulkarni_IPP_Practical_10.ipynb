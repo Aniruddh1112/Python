{
  "nbformat": 4,
  "nbformat_minor": 0,
  "metadata": {
    "colab": {
      "name": "I081_Aniruddh Kulkarni_IPP Practical 10.ipynb",
      "provenance": []
    },
    "kernelspec": {
      "name": "python3",
      "display_name": "Python 3"
    },
    "language_info": {
      "name": "python"
    }
  },
  "cells": [
    {
      "cell_type": "markdown",
      "metadata": {
        "id": "JPrtOjjg7PNS"
      },
      "source": [
        "Name: Aniruddh Kulkarni "
      ]
    },
    {
      "cell_type": "markdown",
      "metadata": {
        "id": "-sUmx4NU7PEn"
      },
      "source": [
        "Roll No: I081"
      ]
    },
    {
      "cell_type": "markdown",
      "metadata": {
        "id": "aVrpBM0w7O-T"
      },
      "source": [
        "Batch: I3"
      ]
    },
    {
      "cell_type": "markdown",
      "metadata": {
        "id": "YYpYPRx_7O4L"
      },
      "source": [
        "Program: CS(AI)"
      ]
    },
    {
      "cell_type": "markdown",
      "metadata": {
        "id": "O8QaxNYj7OwN"
      },
      "source": [
        "Semester: 2"
      ]
    },
    {
      "cell_type": "markdown",
      "metadata": {
        "id": "0799o9e77Oke"
      },
      "source": [
        "A.1 Aim:  To study exception handling and programming challenges in python."
      ]
    },
    {
      "cell_type": "markdown",
      "metadata": {
        "id": "sjb76EjD8N6k"
      },
      "source": [
        "Task 1:\n",
        "Write a program to use custom exceptions for signaling users about errors while calculating addition of square roots of 3 numbers.\n"
      ]
    },
    {
      "cell_type": "code",
      "metadata": {
        "colab": {
          "base_uri": "https://localhost:8080/"
        },
        "id": "pSMkjYhi79Il",
        "outputId": "d196593f-67a9-4162-e351-7c9824701ebd"
      },
      "source": [
        "import cmath\n",
        "\n",
        "num1 = input(\"Enter first number: \")\n",
        "num2 = input(\"Enter second number: \")\n",
        "num3 = input(\"Enter third number: \")\n",
        "\n",
        "try:\n",
        "    num1 = int(num1)\n",
        "    num2 = int(num2)\n",
        "    num3 = int(num3)\n",
        "\n",
        "    num1 = cmath.sqrt(num1)\n",
        "    num2 = cmath.sqrt(num2)\n",
        "    num3 = cmath.sqrt(num3)\n",
        "\n",
        "    print(\"Answer is : {}\".format(num1+num2+num3))\n",
        "    \n",
        "\n",
        "except ValueError:\n",
        "    raise Exception(\"Please Enter numbers for calculation\")"
      ],
      "execution_count": null,
      "outputs": [
        {
          "output_type": "stream",
          "text": [
            "Enter first number: 7\n",
            "Enter second number: -2\n",
            "Enter third number: 41\n",
            "Answer is : (9.048875548497438+1.4142135623730951j)\n"
          ],
          "name": "stdout"
        }
      ]
    },
    {
      "cell_type": "markdown",
      "metadata": {
        "id": "IDrO6lMa86FV"
      },
      "source": [
        "Task 2:\n",
        "\n",
        "Design an interactive calculator\n",
        "●\tUser input is assumed to be a formula that consists of a number, an operator (at least + and -), and another number, separated by white space (e.g. 1 + 1). Split user input using str.split(), and check whether the resulting list is valid:\n",
        "\n",
        "○\tIf the input does not consist of 3 elements, raise a FormulaError, which is a custom Exception.\n",
        "○\tTry to convert the first and third input to a float (like so: float_value = float(str_value)). Catch any ValueError that occurs, and instead raise a FormulaError\n",
        "○\tIf the second input is not '+' or '-', again raise a FormulaError\n",
        "●\tIf the input is valid, perform the calculation and print out the result. The user is then prompted to provide new input, and so on, until the user enters quit.\n",
        "Example : \n",
        "calculate(2,\"*\", 5) → 10 \n",
        "calculate(10,\"-\", 5) →5 \n"
      ]
    },
    {
      "cell_type": "code",
      "metadata": {
        "colab": {
          "base_uri": "https://localhost:8080/"
        },
        "id": "Sjl8Kf_E7OJE",
        "outputId": "b46542e4-534e-4eb7-9074-b589c8b372a0"
      },
      "source": [
        "string = input(\"Enter formula in the format: number_operation_number \\n (where _ represents space) \\n \")\n",
        "\n",
        "listt = string.split()\n",
        "\n",
        "if len(listt) != 3:\n",
        "    raise Exception(\"FormulaError\")\n",
        "\n",
        "try:\n",
        "    n1 = float(listt[0])\n",
        "    n2 = float(listt[2])\n",
        "\n",
        "except ValueError:\n",
        "    raise Exception(\"FormulaError\")\n",
        "\n",
        "op = listt[1]\n",
        "\n",
        "operators = ['+' , '-' , '*' , '/']\n",
        "\n",
        "if op not in operators:\n",
        "    raise Exception(\"FormulaError\")\n",
        "\n",
        "def myfirstcalculator(n1, op , n2):\n",
        "    print(\"Answer is :\" )\n",
        "\n",
        "    if op=='+':\n",
        "        return n1+n2\n",
        "\n",
        "    elif op=='-':\n",
        "        return n1-n2\n",
        "    \n",
        "    elif op=='*':\n",
        "        return n1*n2\n",
        "    \n",
        "    else:\n",
        "        return n1/n2\n",
        "\n",
        "\n",
        "myfirstcalculator(n1, op , n2)"
      ],
      "execution_count": null,
      "outputs": [
        {
          "output_type": "stream",
          "text": [
            "Enter formula in the format: number_operation_number \n",
            " (where _ represents space) \n",
            " 7 + 8\n",
            "Answer is :\n"
          ],
          "name": "stdout"
        },
        {
          "output_type": "execute_result",
          "data": {
            "text/plain": [
              "15.0"
            ]
          },
          "metadata": {
            "tags": []
          },
          "execution_count": 4
        }
      ]
    },
    {
      "cell_type": "markdown",
      "metadata": {
        "id": "4-kO2-md9Uba"
      },
      "source": [
        "Task 3: \n",
        "\n",
        "Create N x N multiplication table, of size n provided in parameter.\n",
        "For example, when n is 5, the multiplication table is:\n",
        "1, 2, 3, 4, 5\n",
        "2, 4, 6, 8, 10\n",
        "3, 6, 9, 12, 15\n",
        "4, 8, 12, 16, 20\n",
        "5, 10, 15, 20, 25\n",
        "\n",
        "Examples :  \n",
        "N = 5    [[1, 2, 3, 4, 5], [2, 4, 6, 8, 10], [3, 6, 9, 12, 15], [4, 8, 12, 16, 20], [5, 10, 15, 20, 25]]\n",
        "\n",
        "N = 3    [[1, 2, 3], [2, 4, 6], [3, 6, 9]]\n",
        "\n"
      ]
    },
    {
      "cell_type": "code",
      "metadata": {
        "colab": {
          "base_uri": "https://localhost:8080/"
        },
        "id": "_6G-lXBw7LKp",
        "outputId": "d24a6adc-f502-41ce-ffb1-7ca231b4e97b"
      },
      "source": [
        "n = int(input(\"Enter the Number N : \"))\n",
        "\n",
        "list1 = []\n",
        "\n",
        "for i in range(1,n+1):\n",
        "    listt = []\n",
        "    for j in range(1,n+1):\n",
        "        listt.append(i*j)\n",
        "\n",
        "    list1.append(listt)\n",
        "\n",
        "print(list1)"
      ],
      "execution_count": null,
      "outputs": [
        {
          "output_type": "stream",
          "text": [
            "Enter the Number N : 3\n",
            "[[1, 2, 3], [2, 4, 6], [3, 6, 9]]\n"
          ],
          "name": "stdout"
        }
      ]
    },
    {
      "cell_type": "markdown",
      "metadata": {
        "id": "M1cOwgPX9gXE"
      },
      "source": [
        "Task 4 : \n",
        "Given an integer, create a function that returns the next prime. If the number is prime, return the number itself.\n",
        "Examples : \n",
        "prime(12) ➞ 13\n",
        "prime(24) ➞ 29\n",
        "prime(11) ➞ 11\n",
        "\n",
        "\n",
        "\n"
      ]
    },
    {
      "cell_type": "code",
      "metadata": {
        "colab": {
          "base_uri": "https://localhost:8080/"
        },
        "id": "xDVANr3Q9r6c",
        "outputId": "3b7195c7-5e63-4268-8d55-b77363681743"
      },
      "source": [
        "def nextprime(num): \n",
        "    while True: \n",
        "        for i in range(2, int(num/2)+1):\n",
        "            if (num % i) == 0: # not a prime\n",
        "                break\n",
        "        else:\n",
        "            return num #prime'\n",
        "            break \n",
        "            break\n",
        "\n",
        "        num +=1\n",
        "\n",
        "        \n",
        "\n",
        "num = int(input(\"Enter your Number: \"))\n",
        "\n",
        "nextprime(num)"
      ],
      "execution_count": null,
      "outputs": [
        {
          "output_type": "stream",
          "text": [
            "Enter your Number: 27\n"
          ],
          "name": "stdout"
        },
        {
          "output_type": "execute_result",
          "data": {
            "text/plain": [
              "29"
            ]
          },
          "metadata": {
            "tags": []
          },
          "execution_count": 6
        }
      ]
    },
    {
      "cell_type": "markdown",
      "metadata": {
        "id": "UQhHlc8v9zDm"
      },
      "source": [
        "Task 5 : \n",
        "You work in a factory, and your job is to take items from a conveyor belt and pack them into boxes. Each box can hold a maximum of 10 kgs. Given a list containing the weight (in kg) of each item, how many boxes would you need to pack all of the items?\n",
        "Examples :\n",
        "boxes([2, 0, 2, 5, 4, 1, 2, 1, 1, 9, 3]) → 4 boxes\n",
        "boxes([2, 0, 2, 5, 4, 1, 2])→ 2 boxes\n",
        "\n"
      ]
    },
    {
      "cell_type": "code",
      "metadata": {
        "colab": {
          "base_uri": "https://localhost:8080/"
        },
        "id": "k51IgIdx93U1",
        "outputId": "b0a3b85e-afe2-475c-916f-6cb2291cb573"
      },
      "source": [
        "boxes = [2,0,2,5,4,1,2,1,1,9,3]\n",
        "sum1 = sum(boxes)\n",
        "if sum1%10==0:\n",
        "    print(\"Number of boxes required are : \" , sum1//10 )\n",
        "else:\n",
        "    print(\"Number of boxes required are : \" , sum1//10 + 1 )"
      ],
      "execution_count": null,
      "outputs": [
        {
          "output_type": "stream",
          "text": [
            "Number of boxes required are :  3\n"
          ],
          "name": "stdout"
        }
      ]
    },
    {
      "cell_type": "code",
      "metadata": {
        "colab": {
          "base_uri": "https://localhost:8080/"
        },
        "id": "Z8fo8fXV9-W6",
        "outputId": "081f00bc-b681-47fb-9f78-fd0385fbe285"
      },
      "source": [
        "boxes = [2,0,2,5,4,1,2]\n",
        "sum1 = sum(boxes)\n",
        "if sum1%10==0:\n",
        "    print(\"Number of boxes required are : \" , int(sum1/10) )\n",
        "else:\n",
        "    print(\"Number of boxes required are : \" , sum1//10 +1)"
      ],
      "execution_count": null,
      "outputs": [
        {
          "output_type": "stream",
          "text": [
            "Number of boxes required are :  2\n"
          ],
          "name": "stdout"
        }
      ]
    }
  ]
}